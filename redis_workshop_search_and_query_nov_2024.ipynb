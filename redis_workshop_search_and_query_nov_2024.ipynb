{
  "nbformat": 4,
  "nbformat_minor": 0,
  "metadata": {
    "colab": {
      "provenance": [],
      "authorship_tag": "ABX9TyPI06oiptjOAOTrPTNj/upb",
      "include_colab_link": true
    },
    "kernelspec": {
      "name": "python3",
      "display_name": "Python 3"
    },
    "language_info": {
      "name": "python"
    }
  },
  "cells": [
    {
      "cell_type": "markdown",
      "metadata": {
        "id": "view-in-github",
        "colab_type": "text"
      },
      "source": [
        "<a href=\"https://colab.research.google.com/github/gacerioni/redis-workshop-series-ptbr-gabs/blob/main/redis_workshop_search_and_query_nov_2024.ipynb\" target=\"_parent\"><img src=\"https://colab.research.google.com/assets/colab-badge.svg\" alt=\"Open In Colab\"/></a>"
      ]
    },
    {
      "cell_type": "markdown",
      "source": [
        "# Workshop - Redis Search and Query Engine: JSON, Hashes, e Indexação Avançada\n",
        "\n",
        "\n",
        "![Redis](https://redis.io/wp-content/uploads/2024/04/Logotype.svg?auto=webp&quality=85,75&width=120)\n",
        "\n",
        "**Bem-vindos a mais um Workshop!**\n",
        "\n",
        "Aqui, vamos explorar o uso do **Redis Search and Query Engine** para transformar o Redis em um banco de dados NoSQL poderoso, ideal para consultas avançadas e armazenamento de documentos. Neste módulo, focaremos em como o Redis pode ir além do caching e atuar como um verdadeiro banco de dados de busca e consulta.\n",
        "\n",
        "### Objetivos do Workshop\n",
        "\n",
        "Este notebook é uma introdução hands-on ao uso do Redis como um banco de dados de documentos, com as seguintes funcionalidades:\n",
        "\n",
        "- **JSON e Hashes**: Estruturas de dados ideais para documentos e modelos aninhados, permitindo leitura e escrita de partes específicas de documentos JSON e armazenamento eficiente de pares chave-valor.\n",
        "- **Indexação e Busca Avançada com RediSearch**: Inclui suporte para consultas textuais, filtros numéricos, buscas por localização geográfica e correspondência semântica, entre outras funcionalidades.\n",
        "\n",
        "### O que vamos cobrir:\n",
        "\n",
        "1. **Armazenamento de Documentos JSON e Hashes**: Aprenderemos como salvar, acessar e atualizar partes específicas de documentos JSON.\n",
        "2. **Busca e Filtros no RediSearch**: Como criar índices para permitir buscas por tags, intervalos numéricos, e localização geográfica.\n",
        "3. **Consultas Avançadas**: Como combinar diferentes critérios de busca para consultas poderosas e dinâmicas.\n",
        "\n",
        "Para aproveitar melhor o workshop, recomendamos utilizar o **Redis Insight** para visualizar os dados e realizar consultas de forma interativa.\n",
        "\n",
        "---\n",
        "\n",
        "## Setup Rápido - Configuração do Ambiente\n",
        "\n",
        "Para começar, precisamos garantir que temos todas as dependências instaladas e a conexão configurada para o Redis Cloud. Vamos instalar a biblioteca `redis-py` para Python e a ferramenta `redis-cli` para realizar testes de linha de comando diretamente.\n",
        "\n",
        "### Passo 1: Instalação das Dependências\n"
      ],
      "metadata": {
        "id": "FWXXMFaI0Kvz"
      }
    },
    {
      "cell_type": "code",
      "execution_count": null,
      "metadata": {
        "id": "LfAUQPwQ0CPZ"
      },
      "outputs": [],
      "source": [
        "# Instalando a biblioteca redis-py para interação com o Redis\n",
        "!pip install -q redis\n",
        "\n",
        "# Instalando o redis-cli para comandos diretos no terminal\n",
        "!apt-get update -y\n",
        "!apt-get install -y redis-tools"
      ]
    },
    {
      "cell_type": "markdown",
      "source": [
        "### Passo 2: Configurando a Conexão com o Redis Cloud\n",
        "\n",
        "No bloco abaixo, configure seu endpoint do Redis Cloud com `host`, `port`, e `password`.\n",
        "\n",
        "Aqui, mostramos um exemplo de configuração. Substitua os valores pelos do seu próprio Redis Cloud para conectar. O Redis Cloud oferece TLS para uma conexão segura; neste exemplo, vamos desativá-lo para simplicidade, mas recomendamos o uso do TLS para produção."
      ],
      "metadata": {
        "id": "bPMnfYZw4oOp"
      }
    },
    {
      "cell_type": "code",
      "source": [
        "import os\n",
        "\n",
        "# Configurações do Redis Cloud - ajuste os valores para seu Redis Cloud\n",
        "REDIS_HOST = \"redis-18443.c309.us-east-2-1.ec2.redns.redis-cloud.com\"\n",
        "REDIS_PORT = 18443\n",
        "REDIS_PASSWORD = \"secret42\"\n",
        "\n",
        "# Montando a URL de conexão\n",
        "REDIS_URL = f\"redis://:{REDIS_PASSWORD}@{REDIS_HOST}:{REDIS_PORT}\"\n",
        "os.environ[\"REDIS_CONN\"] = f\"-h {REDIS_HOST} -p {REDIS_PORT} -a {REDIS_PASSWORD} --no-auth-warning\""
      ],
      "metadata": {
        "id": "XvRoyngn4rOb"
      },
      "execution_count": null,
      "outputs": []
    },
    {
      "cell_type": "markdown",
      "source": [
        "### Passo 3: Testando a Conexão com o Redis Cloud\n",
        "\n",
        "Para garantir que estamos conectados corretamente, vamos realizar um teste com o comando `PING`. Se a conexão estiver configurada corretamente, o Redis retornará \"PONG\".\n",
        "\n",
        "**Nota:** Também incluímos um comando `FLUSHDB` comentado, que apaga todos os dados da base. Use-o com cuidado!"
      ],
      "metadata": {
        "id": "JEenZeLF44F-"
      }
    },
    {
      "cell_type": "code",
      "source": [
        "# Testando a conexão com o Redis CLI\n",
        "!redis-cli $REDIS_CONN PING\n",
        "\n",
        "# Opcional: para reiniciar completamente o banco de dados, descomente a linha abaixo\n",
        "# !redis-cli $REDIS_CONN FLUSHDB"
      ],
      "metadata": {
        "id": "JfqGGf0446Wc"
      },
      "execution_count": null,
      "outputs": []
    },
    {
      "cell_type": "markdown",
      "source": [
        "Se o comando `PING` retornar `PONG`, sua configuração está correta e você já está conectado ao Redis Cloud!\n",
        "\n",
        "Com o ambiente pronto, vamos explorar o armazenamento de documentos com Redis JSON e Hashes, os \"heróis\" do Redis para dados estruturados e aninhados."
      ],
      "metadata": {
        "id": "8ihEb5gD4_j6"
      }
    },
    {
      "cell_type": "markdown",
      "source": [
        "# Hashes e JSON - Estruturas de Dados para Documentos\n",
        "\n",
        "No Redis, os tipos de dados **Hash** e **JSON** fornecem estruturas ideais para armazenar e manipular objetos complexos, como registros de usuários ou informações de produtos. Nesta seção, vamos explorar as principais operações e manipulações possíveis com esses tipos de dados.\n",
        "\n",
        "Os **Hashes** no Redis são semelhantes a um dicionário em Python ou um mapa em Java, sendo uma coleção de pares campo-valor. Já o tipo de dado **JSON** permite armazenar objetos completos, aninhados, e realizar consultas avançadas diretamente na estrutura JSON, oferecendo flexibilidade para aplicações que lidam com dados hierárquicos.\n",
        "\n",
        "**Importante:** Tanto os **Hashes** quanto o **JSON** são indexáveis e preparados para **Search and Query**, permitindo que o Redis funcione como um banco de dados NoSQL robusto.\n",
        "\n",
        "\n",
        "Vamos iniciar explorando o tipo de dado Hash no Redis, usando exemplos práticos.\n",
        "\n",
        "## Redis Hash: Estrutura e Exemplos Práticos\n",
        "\n",
        "Hashes são ideais para representar objetos com múltiplos atributos, como o perfil de um usuário, com campos como nome, e-mail e idade. Eles oferecem operações rápidas de leitura e escrita, permitindo que cada campo dentro do hash seja acessado e modificado individualmente, sem alterar toda a estrutura.\n",
        "\n",
        "### Exemplo Prático: Criando e Manipulando um Hash no Redis\n",
        "\n",
        "Usaremos o `HSET` para salvar variáveis como campos em um hash no Redis. Para praticar, vamos criar o registro de um \"MVP\" do esporte."
      ],
      "metadata": {
        "id": "2OF2G7F25O6u"
      }
    },
    {
      "cell_type": "code",
      "source": [
        "# Criação de um hash representando um atleta MVP (Most Valuable Player)\n",
        "!redis-cli $REDIS_CONN HSET mvp:1 name \"Ayrton\" last_name \"Senna\" email \"senninha@f1.io\" age 34\n",
        "\n",
        "# Exibindo o resultado do hash criado\n",
        "!redis-cli $REDIS_CONN HGETALL mvp:1"
      ],
      "metadata": {
        "id": "fvP-KEYd5ki-"
      },
      "execution_count": null,
      "outputs": []
    },
    {
      "cell_type": "markdown",
      "source": [
        "Neste exemplo, criamos um hash com campos de informações de um atleta, incluindo nome, sobrenome, e-mail e idade.\n",
        "\n",
        "### Exercício: Criar Outro Hash\n",
        "\n",
        "Agora, crie outro MVP no Redis usando o mesmo comando `HSET`. Esse exemplo será de um jogador de futebol bem conhecido."
      ],
      "metadata": {
        "id": "iwsjMkWI5oMt"
      }
    },
    {
      "cell_type": "code",
      "source": [
        "# Criação de outro hash representando um segundo MVP\n",
        "!redis-cli $REDIS_CONN HSET mvp:2 name \"Edson\" last_name \"Arantes do Nascimento\" apelido \"Pelé\" email \"pele@santosfc.com\" age 82\n",
        "\n",
        "# Exibindo o resultado do segundo hash criado\n",
        "!redis-cli $REDIS_CONN HGETALL mvp:2"
      ],
      "metadata": {
        "id": "vP0oCK635qe5"
      },
      "execution_count": null,
      "outputs": []
    },
    {
      "cell_type": "markdown",
      "source": [
        "### Manipulando Hashes no Redis\n",
        "\n",
        "Podemos visualizar todos os campos e valores de um hash usando o comando `HGETALL`. Outros comandos úteis incluem `HMGET` para obter valores específicos, `HINCRBY` para incrementar valores numéricos, e `HDEL` para excluir campos.\n",
        "\n",
        "Abaixo estão alguns exemplos práticos."
      ],
      "metadata": {
        "id": "lc8UkbNB5-Mj"
      }
    },
    {
      "cell_type": "code",
      "source": [
        "# Configuração da conexão com o Redis (certifique-se de já ter conectado antes, ou use este bloco para conectar)\n",
        "import redis\n",
        "\n",
        "# Definindo a conexão com o Redis Cloud\n",
        "r = redis.Redis(\n",
        "    host=REDIS_HOST,\n",
        "    port=REDIS_PORT,\n",
        "    password=REDIS_PASSWORD,\n",
        "    decode_responses=True\n",
        ")\n",
        "\n",
        "# Exemplo de recuperação de valores específicos usando HMGET\n",
        "valores = r.hmget(\"mvp:2\", \"name\", \"apelido\", \"age\")\n",
        "print(\"Campos selecionados do segundo MVP:\", valores)\n",
        "\n",
        "# Incrementando o campo 'gols' para simular a contagem de gols\n",
        "# Nota: O campo 'gols' será criado automaticamente se não existir\n",
        "r.hincrby(\"mvp:2\", \"gols\", 1000)  # Adiciona 1000 ao campo 'gols'\n",
        "r.hincrby(\"mvp:2\", \"gols\", 5)     # Incrementa mais 5 gols\n",
        "\n",
        "# Visualizando o hash atualizado\n",
        "print(\"Hash atualizado do segundo MVP:\", r.hgetall(\"mvp:2\"))"
      ],
      "metadata": {
        "id": "1XwIxIQe6CC3"
      },
      "execution_count": null,
      "outputs": []
    },
    {
      "cell_type": "markdown",
      "source": [
        "#### Exercício: Excluindo Campos de Hashes\n",
        "\n",
        "Agora, vamos usar o comando `HDEL` para excluir o campo 'gols' do hash `mvp:2`."
      ],
      "metadata": {
        "id": "DhVXuX3P68qV"
      }
    },
    {
      "cell_type": "code",
      "source": [
        "# Excluir o campo 'gols' do segundo MVP\n",
        "r.hdel(\"mvp:2\", \"gols\")\n",
        "\n",
        "# Verificando o hash atualizado\n",
        "print(\"Hash final do segundo MVP após a exclusão do campo 'gols':\", r.hgetall(\"mvp:2\"))"
      ],
      "metadata": {
        "id": "2P2oe6n96_jJ"
      },
      "execution_count": null,
      "outputs": []
    },
    {
      "cell_type": "markdown",
      "source": [
        "### Extra: Adicionando e Gerenciando TTL em Subchaves de Hashes\n",
        "\n",
        "Com o Redis 7.4+, agora é possível adicionar TTL (Time-To-Live) em subchaves de hashes, permitindo que cada campo tenha sua própria expiração. Essa funcionalidade é muito útil para cenários onde os dados de diferentes campos de um hash possuem ciclos de vida distintos.\n",
        "\n",
        "**Vamos fazer duas ações com o TTL:**\n",
        "1.\tAdicionar um TTL ao campo já existente age.\n",
        "2.\tAdicionar uma nova subchave nickname com um TTL também.\n",
        "\n",
        "#### Passo 1: Adicionar um TTL ao campo age\n",
        "\n",
        "Primeiro, adicionamos um TTL de 15 segundos ao campo age no hash do nosso MVP (mvp:2).\n",
        "\n"
      ],
      "metadata": {
        "id": "yFRweLnPwJ4y"
      }
    },
    {
      "cell_type": "code",
      "source": [
        "# Configurando o TTL do campo 'age' para 15 segundos\n",
        "r.hexpire(\"mvp:2\", 15, \"age\")\n",
        "\n",
        "# Verificando o TTL restante do campo 'age'\n",
        "ttl_age = r.httl(\"mvp:2\", \"age\")\n",
        "print(f\"TTL restante do campo 'age': {ttl_age} segundos\")"
      ],
      "metadata": {
        "colab": {
          "base_uri": "https://localhost:8080/"
        },
        "id": "poukctTEwd-t",
        "outputId": "851fe6b6-6832-42e4-da0a-b299a5533307"
      },
      "execution_count": 31,
      "outputs": [
        {
          "output_type": "stream",
          "name": "stdout",
          "text": [
            "TTL restante do campo 'age': [15] segundos\n"
          ]
        }
      ]
    },
    {
      "cell_type": "markdown",
      "source": [
        "#### Passo 2: Adicionar uma nova subchave nickname com TTL\n",
        "\n",
        "Também podemos adicionar uma nova subchave e já configurar seu TTL. Aqui, vamos adicionar a subchave nickname com um valor e expiração de 15 segundos.\n"
      ],
      "metadata": {
        "id": "S3CnK0xMwnKx"
      }
    },
    {
      "cell_type": "code",
      "source": [
        "# Adicionando o campo 'nickname' com valor e configurando o TTL\n",
        "r.hset(\"mvp:2\", \"nickname\", \"O Rei\")\n",
        "r.hexpire(\"mvp:2\", 15, \"nickname\")\n",
        "\n",
        "# Verificando o TTL restante do campo 'nickname'\n",
        "ttl_nickname = r.httl(\"mvp:2\", \"nickname\")\n",
        "print(f\"TTL restante do campo 'nickname': {ttl_nickname} segundos\")"
      ],
      "metadata": {
        "colab": {
          "base_uri": "https://localhost:8080/"
        },
        "id": "yi6DNC0Awqv_",
        "outputId": "66cc727e-e99d-42df-80b1-654f06dc0c76"
      },
      "execution_count": 32,
      "outputs": [
        {
          "output_type": "stream",
          "name": "stdout",
          "text": [
            "TTL restante do campo 'nickname': [15] segundos\n"
          ]
        }
      ]
    },
    {
      "cell_type": "markdown",
      "source": [
        "Após 15 segundos, o campo nickname também será removido do hash.\n",
        "\n",
        "**Nota:** Use o Redis Insight para visualizar as mudanças no hash em tempo real. Você verá os campos sendo removidos automaticamente conforme o TTL expira."
      ],
      "metadata": {
        "id": "BqxfHkOrwv8q"
      }
    },
    {
      "cell_type": "markdown",
      "source": [
        "# RedisJSON - Estrutura de Dados para Documentos JSON\n",
        "\n",
        "**RedisJSON** adiciona o tipo de dado JSON ao Redis, permitindo que você armazene e manipule objetos JSON de forma nativa, sem a necessidade de serializar ou desserializar grandes strings JSON no cliente.\n",
        "\n",
        "Trabalhar com JSON no Redis também permite que você crie um modelo ou schema com campos tipados e metadados. Esses campos suportam buscas avançadas, incluindo consultas multi-facetadas, vetoriais, geográficas e filtradas, todas executadas no lado do servidor. Isso reduz significativamente o tráfego de rede e otimiza o desempenho da aplicação.\n",
        "\n",
        "> Em outras palavras, você pode consultar e filtrar dados diretamente no Redis, obtendo apenas as informações relevantes para sua aplicação, em uma única ida e volta.\n",
        "\n",
        "Para a manipulação de dados JSON, podemos usar o Redis CLI (com comandos como `JSON.GET`, `JSON.SET`) ou uma biblioteca cliente, como `redis-py`, com métodos como `json().get()` e `json().set()`. Outro recurso útil é o [RedisOM](https://redis.io/docs/latest/integrate/redisom-for-python/), uma biblioteca de Object Mapping que facilita a manipulação de dados JSON.\n",
        "\n",
        "- Lista completa de comandos do RedisJSON: [Comandos RedisJSON](https://redis.io/commands/?group=json)\n",
        "- Documentação Python: [RedisJSON - redis-py](https://redis-py.readthedocs.io/en/stable/redismodules.html#redisjson-commands)\n",
        "\n",
        "---\n",
        "\n",
        "## Hands-on: Exercícios com JSON no Redis\n",
        "\n",
        "### Criar um Objeto JSON\n",
        "\n",
        "Vamos criar um objeto JSON representando um colégio e salvar este objeto no Redis."
      ],
      "metadata": {
        "id": "7ZerLzic7b4W"
      }
    },
    {
      "cell_type": "code",
      "source": [
        "import redis\n",
        "from redis.commands.json.path import Path\n",
        "\n",
        "# Conectar ao Redis\n",
        "r = redis.Redis(\n",
        "    host=REDIS_HOST,\n",
        "    port=REDIS_PORT,\n",
        "    password=REDIS_PASSWORD,\n",
        "    decode_responses=True\n",
        ")\n",
        "\n",
        "# Definir o objeto JSON para um colégio em Curitiba\n",
        "colegio = {\n",
        "    \"name\": \"Colégio Positivo\",\n",
        "    \"description\": \"Localizado em Curitiba, o Colégio Positivo é conhecido por seu currículo abrangente e inovador, com foco em tecnologia e excelência acadêmica.\",\n",
        "    \"class\": \"particular\",\n",
        "    \"type\": [\"moderno\"],\n",
        "    \"address\": {\"city\": \"Curitiba\", \"street\": \"Rua Prof. Pedro Viriato Parigot de Souza\"},\n",
        "    \"students\": 1500,\n",
        "    \"location\": \"-49.275437,-25.428356\",\n",
        "    \"status_log\": [\"novo\", \"em operação\"],\n",
        "    \"teachers\": [\n",
        "        {\"name\": \"Maria Oliveira\", \"subjects\": [\"Biologia\", \"Química\"]},\n",
        "        {\"name\": \"João Lima\", \"subjects\": [\"Matemática\", \"Física\"]}\n",
        "    ],\n",
        "    \"tags\": \"excelência acadêmica, inovação, tecnologia\"\n",
        "}\n",
        "\n",
        "# Salvar o objeto JSON no Redis com a chave 'colegio:42'\n",
        "r.json().set(\"colegio:42\", '$', colegio)\n",
        "\n",
        "# Verificar se o objeto foi salvo corretamente\n",
        "colegio_salvo = r.json().get(\"colegio:42\")\n",
        "print(\"Dados do colégio salvos no Redis:\", colegio_salvo)"
      ],
      "metadata": {
        "id": "sWi-ll1V7fL7"
      },
      "execution_count": null,
      "outputs": []
    },
    {
      "cell_type": "markdown",
      "source": [
        "### Exemplos de Leitura no Redis CLI\n",
        "\n",
        "Abaixo estão alguns exemplos de comandos para leitura no `redis-cli`:\n",
        "\n",
        "1. **Pegar o JSON inteiro**\n",
        "   - Retorna todo o objeto JSON armazenado na chave `colegio:42`\n"
      ],
      "metadata": {
        "id": "S42ymHAr7kRd"
      }
    },
    {
      "cell_type": "code",
      "source": [
        "!redis-cli $REDIS_CONN JSON.GET colegio:42"
      ],
      "metadata": {
        "id": "BR62vHJc7uE7"
      },
      "execution_count": null,
      "outputs": []
    },
    {
      "cell_type": "markdown",
      "source": [
        "2.\t**Pegar propriedades específicas**\n",
        "  - Retorna apenas os campos `name` e `address.city` do objeto JSON\n"
      ],
      "metadata": {
        "id": "ni3cnFL27wsu"
      }
    },
    {
      "cell_type": "code",
      "source": [
        "!redis-cli $REDIS_CONN JSON.GET colegio:42 $.name $.address.city"
      ],
      "metadata": {
        "id": "TJGuwhqZ781r"
      },
      "execution_count": null,
      "outputs": []
    },
    {
      "cell_type": "markdown",
      "source": [
        "3.\t**Pegar uma propriedade aninhada**\n",
        "  - Retorna o nome do primeiro professor na lista de teachers\n"
      ],
      "metadata": {
        "id": "Z1EkBvW-7_Io"
      }
    },
    {
      "cell_type": "code",
      "source": [
        "!redis-cli $REDIS_CONN JSON.GET colegio:42 $.teachers[0].name"
      ],
      "metadata": {
        "id": "ymhTsD0e8Cw_"
      },
      "execution_count": null,
      "outputs": []
    },
    {
      "cell_type": "markdown",
      "source": [
        "4.\t**Pegar o primeiro elemento de um array**\n",
        "  - Retorna o primeiro status do status_log"
      ],
      "metadata": {
        "id": "qLK47mGy8HGv"
      }
    },
    {
      "cell_type": "code",
      "source": [
        "!redis-cli $REDIS_CONN JSON.GET colegio:42 $.status_log[0]"
      ],
      "metadata": {
        "id": "80wLb-yp8KmG"
      },
      "execution_count": null,
      "outputs": []
    },
    {
      "cell_type": "markdown",
      "source": [
        "### Escrita e Manipulação de JSON no Redis\n",
        "\n",
        "Além de criar e ler, o Redis permite atualizar partes específicas do **JSON**, sem a necessidade de substituir o documento inteiro. Abaixo estão alguns exemplos para modificar o JSON."
      ],
      "metadata": {
        "id": "PfnlqqSk8Q-_"
      }
    },
    {
      "cell_type": "code",
      "source": [
        "# Imprimir o estado inicial do array status_log e do campo students\n",
        "status_inicial = r.json().get(\"colegio:42\", Path(\"$.status_log\"))\n",
        "alunos_iniciais = r.json().get(\"colegio:42\", Path(\"$.students\"))\n",
        "print(\"Status inicial:\", status_inicial)\n",
        "print(\"Número de alunos inicial:\", alunos_iniciais)\n",
        "\n",
        "print(\"----------------------------------------------------------------\")\n",
        "\n",
        "# 1. Adicionar um novo status ao array status_log\n",
        "r.json().arrappend(\"colegio:42\", Path(\"$.status_log\"), \"em expansão\")\n",
        "status_atualizado = r.json().get(\"colegio:42\", Path(\"$.status_log\"))\n",
        "print(\"Status atualizado:\", status_atualizado)\n",
        "\n",
        "# 2. Incrementar o número de alunos em 10\n",
        "r.json().numincrby(\"colegio:42\", Path(\"$.students\"), 10)\n",
        "alunos_atualizados = r.json().get(\"colegio:42\", Path(\"$.students\"))\n",
        "print(\"Número de alunos atualizado:\", alunos_atualizados)"
      ],
      "metadata": {
        "id": "gX86HCiy8U3i"
      },
      "execution_count": null,
      "outputs": []
    },
    {
      "cell_type": "markdown",
      "source": [
        "# Search and Query: Explorando Consultas Avançadas no Redis\n",
        "\n",
        "\n",
        "Agora que temos os dados salvos como objetos JSON, vamos usar o **RediSearch** para criar um índice e realizar buscas avançadas. RediSearch permite declarar índices com facilidade e automatiza a adição de novos objetos ao índice, essencialmente transformando o Redis em um banco de dados NoSQL para documentos.\n",
        "\n",
        "Primeiro, vamos carregar dados de várias escolas conhecidas no Brasil. Esses dados servirão para testar as consultas avançadas."
      ],
      "metadata": {
        "id": "AafpLqf7AeIZ"
      }
    },
    {
      "cell_type": "code",
      "source": [
        "schools = [\n",
        "    {\n",
        "        \"name\": \"Colégio Bandeirantes\",\n",
        "        \"description\": \"Abrangendo 10 estados, o currículo premiado desta escola inclui um sistema de leitura abrangente (do reconhecimento de letras e fonética à leitura de livros completos), além de matemática, ciências, estudos sociais e até filosofia.\",\n",
        "        \"class\": \"independente\",\n",
        "        \"type\": [\"tradicional\"],\n",
        "        \"address\": {\"city\": \"São Paulo\", \"street\": \"Rua Estela\"},\n",
        "        \"students\": 342,\n",
        "        \"location\": \"-46.633308,-23.550520\",\n",
        "        \"status_log\": [\"novo\", \"em operação\"],\n",
        "        \"teachers\": [\n",
        "            {\n",
        "                \"name\": \"Ana Silva\",\n",
        "                \"subjects\": [\"Matemática\", \"Física\"]\n",
        "            },\n",
        "            {\n",
        "                \"name\": \"Carlos Souza\",\n",
        "                \"subjects\": [\"História\", \"Geografia\"]\n",
        "            }\n",
        "        ],\n",
        "        \"tags\": \"excelência acadêmica, tecnologia, inovação, java\"\n",
        "    },\n",
        "    {\n",
        "        \"name\": \"Escola Maria Imaculada\",\n",
        "        \"description\": \"A Garden School é uma nova e inovadora experiência de ensino e aprendizado ao ar livre, oferecendo atividades ricas e variadas em um ambiente natural para crianças e famílias.\",\n",
        "        \"class\": \"estadual\",\n",
        "        \"type\": [\"floresta\", \"montessori\"],\n",
        "        \"address\": {\"city\": \"São Paulo\", \"street\": \"Avenida Vicente Rao\"},\n",
        "        \"students\": 1452,\n",
        "        \"location\": \"-46.699687,-23.621993\",\n",
        "        \"status_log\": [\"novo\", \"em operação\"],\n",
        "        \"teachers\": [\n",
        "            {\n",
        "                \"name\": \"Mariana Costa\",\n",
        "                \"subjects\": [\"Biologia\", \"Química\"]\n",
        "            },\n",
        "            {\n",
        "                \"name\": \"Rafael Lima\",\n",
        "                \"subjects\": [\"Português\", \"Literatura\"]\n",
        "            }\n",
        "        ],\n",
        "        \"tags\": \"educação ao ar livre, inovação, sustentabilidade\"\n",
        "    },\n",
        "    {\n",
        "        \"name\": \"Colégio São Luís\",\n",
        "        \"description\": \"A Gillford School é um centro de aprendizado inclusivo que acolhe pessoas de todos os estilos de vida, convidando-as a assumir seu papel como agentes regenerativos, criando novos caminhos para o futuro e incitando um movimento internacional de transformação cultural, territorial e social.\",\n",
        "        \"class\": \"privada\",\n",
        "        \"type\": [\"democrática\", \"waldorf\"],\n",
        "        \"address\": {\"city\": \"Rio de Janeiro\", \"street\": \"Rua Haddock Lobo\"},\n",
        "        \"students\": 721,\n",
        "        \"location\": \"-46.660213,-23.558704\",\n",
        "        \"status_log\": [\"novo\", \"em operação\", \"fechada\"],\n",
        "        \"teachers\": [\n",
        "            {\n",
        "                \"name\": \"Beatriz Mendes\",\n",
        "                \"subjects\": [\"Filosofia\", \"Sociologia\"]\n",
        "            },\n",
        "            {\n",
        "                \"name\": \"Fernando Almeida\",\n",
        "                \"subjects\": [\"Artes\", \"Educação Física\"]\n",
        "            }\n",
        "        ],\n",
        "        \"tags\": \"inclusão, transformação social, interdisciplinaridade\"\n",
        "    },\n",
        "    {\n",
        "        \"name\": \"Escola Sesc de Ensino\",\n",
        "        \"description\": \"A filosofia por trás da Forest School baseia-se no desejo de proporcionar às crianças pequenas uma educação que incentive a apreciação do mundo amplo na natureza, enquanto alcançam independência, confiança e alta autoestima.\",\n",
        "        \"class\": \"independente\",\n",
        "        \"type\": [\"floresta\", \"montessori\", \"democrática\"],\n",
        "        \"address\": {\"city\": \"Rio de Janeiro\", \"street\": \"Rua Jacarepaguá\"},\n",
        "        \"students\": 1000,\n",
        "        \"location\": \"-43.375162,-22.972250\",\n",
        "        \"status_log\": [\"novo\", \"em operação\"],\n",
        "        \"teachers\": [\n",
        "            {\n",
        "                \"name\": \"Luciana Oliveira\",\n",
        "                \"subjects\": [\"Ciências\", \"Matemática\"]\n",
        "            },\n",
        "            {\n",
        "                \"name\": \"Paulo Santos\",\n",
        "                \"subjects\": [\"História\", \"Geografia\"]\n",
        "            }\n",
        "        ],\n",
        "        \"tags\": \"natureza, independência, confiança\"\n",
        "    },\n",
        "    {\n",
        "        \"name\": \"Colégio Móbile - Perfeito\",\n",
        "        \"description\": \"A Escola Móbile oferece um programa acadêmico rigoroso combinado com foco em pensamento crítico e criatividade, preparando os alunos para o ensino superior e além.\",\n",
        "        \"class\": \"privada\",\n",
        "        \"type\": [\"tradicional\"],\n",
        "        \"address\": {\"city\": \"Curitiba\", \"street\": \"Rua Cotovia\"},\n",
        "        \"students\": 600,\n",
        "        \"location\": \"-46.676201,-23.592920\",\n",
        "        \"status_log\": [\"novo\", \"em operação\"],\n",
        "        \"teachers\": [\n",
        "            {\n",
        "                \"name\": \"Juliana Pereira\",\n",
        "                \"subjects\": [\"Química\", \"Biologia\"]\n",
        "            },\n",
        "            {\n",
        "                \"name\": \"Ricardo Fernandes\",\n",
        "                \"subjects\": [\"Português\", \"Inglês\"]\n",
        "            }\n",
        "        ],\n",
        "        \"tags\": \"rigor acadêmico, pensamento crítico, criatividade\"\n",
        "    },\n",
        "    {\n",
        "        \"name\": \"Colégio Santa Cruz\",\n",
        "        \"description\": \"O Colégio Santa Cruz é conhecido por seu forte desempenho acadêmico e compromisso com a responsabilidade social, promovendo um senso de comunidade entre os alunos.\",\n",
        "        \"class\": \"privada\",\n",
        "        \"type\": [\"tradicional\", \"religiosa\"],\n",
        "        \"address\": {\"city\": \"Belo Horizonte\", \"street\": \"Rua Orobó\"},\n",
        "        \"students\": 300,\n",
        "        \"location\": \"-46.712750,-23.547680\",\n",
        "        \"status_log\": [\"novo\", \"em operação\"],\n",
        "        \"teachers\": [\n",
        "            {\n",
        "                \"name\": \"Gabriela Rocha\",\n",
        "                \"subjects\": [\"Religião\", \"Filosofia\"]\n",
        "            },\n",
        "            {\n",
        "                \"name\": \"Eduardo Matos\",\n",
        "                \"subjects\": [\"Educação Física\", \"Ciências\"]\n",
        "            }\n",
        "        ],\n",
        "        \"tags\": \"desempenho acadêmico, responsabilidade social, comunidade\"\n",
        "    },\n",
        "    {\n",
        "        \"name\": \"Colégio Rio Branco\",\n",
        "        \"description\": \"O Colégio Rio Branco oferece um currículo diversificado com forte ênfase em línguas, artes e ciências, preparando os alunos para a cidadania global.\",\n",
        "        \"class\": \"privada\",\n",
        "        \"type\": [\"internacional\"],\n",
        "        \"address\": {\"city\": \"São Paulo\", \"street\": \"Rua Alves Guimarães\"},\n",
        "        \"students\": 50,\n",
        "        \"location\": \"-46.670912,-23.555451\",\n",
        "        \"status_log\": [\"novo\", \"em operação\"],\n",
        "        \"teachers\": [\n",
        "            {\n",
        "                \"name\": \"Marcelo Andrade\",\n",
        "                \"subjects\": [\"Inglês\", \"Espanhol\"]\n",
        "            },\n",
        "            {\n",
        "                \"name\": \"Sofia Ribeiro\",\n",
        "                \"subjects\": [\"Artes\", \"História\"]\n",
        "            }\n",
        "        ],\n",
        "        \"tags\": \"línguas, artes, cidadania global, java\"\n",
        "    }\n",
        "]\n",
        "\n",
        "\n",
        "\n",
        "# Carregar os dados no Redis como objetos JSON\n",
        "for id, school in enumerate(schools):\n",
        "    r.json().set(f\"school_json:{id}\", '.', school)\n",
        "\n",
        "print(\"Dados das escolas carregados com sucesso!\")"
      ],
      "metadata": {
        "id": "o-aAPYk0BDI7"
      },
      "execution_count": null,
      "outputs": []
    },
    {
      "cell_type": "markdown",
      "source": [
        "## Visualizando Dados com redis-cli\n",
        "\n",
        "Aqui estão alguns exemplos de como você pode visualizar os dados diretamente no redis-cli:\n",
        "\n"
      ],
      "metadata": {
        "id": "z6FlE1uTBMrN"
      }
    },
    {
      "cell_type": "code",
      "source": [
        "# Recuperar o JSON completo de uma escola específica\n",
        "!redis-cli $REDIS_CONN JSON.GET school_json:1 $\n",
        "\n",
        "# Listar as chaves de todas as escolas carregadas\n",
        "!redis-cli $REDIS_CONN keys 'school_json:*'"
      ],
      "metadata": {
        "id": "yfNW7ij4BQlv"
      },
      "execution_count": null,
      "outputs": []
    },
    {
      "cell_type": "markdown",
      "source": [
        "Para fazer o mesmo em Python:"
      ],
      "metadata": {
        "id": "6kl_hg60BXP_"
      }
    },
    {
      "cell_type": "code",
      "source": [
        "# Recuperar o JSON completo usando Python\n",
        "res = r.json().get(\"school_json:0\", \"$\")\n",
        "print(res)"
      ],
      "metadata": {
        "id": "JjdldQSvBZJB"
      },
      "execution_count": null,
      "outputs": []
    },
    {
      "cell_type": "markdown",
      "source": [
        "## Configurando o Índice no Redis com RediSearch\n",
        "\n",
        "Vamos configurar um índice para o RediSearch. Este índice incluirá campos como nome, descrição, cidade, número de alunos e tags. Ele também suportará geolocalização, permitindo consultas espaciais.\n",
        "\n"
      ],
      "metadata": {
        "id": "UwpYe4FlBbqv"
      }
    },
    {
      "cell_type": "code",
      "source": [
        "from redis.commands.search.field import TextField, TagField, NumericField, GeoField\n",
        "from redis.commands.search.indexDefinition import IndexDefinition, IndexType\n",
        "\n",
        "# Excluir o índice, caso já exista, para evitar conflitos\n",
        "try:\n",
        "    r.ft(\"idx:schools_json\").dropindex(delete_documents=False)\n",
        "except:\n",
        "    pass\n",
        "\n",
        "# Criar o índice para os dados de escola\n",
        "schema = (\n",
        "    TextField(\"$.name\", as_name=\"name\"),\n",
        "    TextField(\"$.description\", as_name=\"description\"),\n",
        "    TagField(\"$.address.city\", as_name=\"city\"),\n",
        "    NumericField(\"$.students\", as_name=\"students\"),\n",
        "    TagField(\"$.tags\", as_name=\"tags\", separator=\",\"),\n",
        "    GeoField(\"$.location\", as_name=\"location\")\n",
        ")\n",
        "\n",
        "# Configurar o índice\n",
        "r.ft(\"idx:schools_json\").create_index(\n",
        "    schema,\n",
        "    definition=IndexDefinition(prefix=[\"school_json:\"], index_type=IndexType.JSON)\n",
        ")\n",
        "print(\"Índice criado com sucesso!\")"
      ],
      "metadata": {
        "id": "b-zLqSetBfKB"
      },
      "execution_count": null,
      "outputs": []
    },
    {
      "cell_type": "markdown",
      "source": [
        "## Testando o Índice com uma Full-Text Search\n",
        "\n"
      ],
      "metadata": {
        "id": "ToOHrW-5BjZ9"
      }
    },
    {
      "cell_type": "markdown",
      "source": [
        "Vamos fazer uma busca completa (full-text) pelo termo “rigoroso” para verificar se o índice está funcionando corretamente. A busca retornará o documento que contém o termo na descrição."
      ],
      "metadata": {
        "id": "mbJXSEGFBmLg"
      }
    },
    {
      "cell_type": "code",
      "source": [
        "import pandas as pd\n",
        "\n",
        "# Executar uma Full-Text Search pelo termo \"rigoroso\"\n",
        "res = r.ft(\"idx:schools_json\").search(\"rigoroso\")\n",
        "res_df = pd.DataFrame([t.__dict__ for t in res.docs])\n",
        "print(\"Resultado da Full-Text Search:\")\n",
        "display(res_df)"
      ],
      "metadata": {
        "id": "6R_dF1uRBn4a"
      },
      "execution_count": null,
      "outputs": []
    },
    {
      "cell_type": "markdown",
      "source": [
        "### Recuperando Campos Específicos\n",
        "\n",
        "Para otimizar o tráfego de dados, você pode escolher retornar apenas alguns campos."
      ],
      "metadata": {
        "id": "LLqPB-O0BwVL"
      }
    },
    {
      "cell_type": "code",
      "source": [
        "from redis.commands.search.query import Query\n",
        "\n",
        "# Busca pelo termo \"rigoroso\", retornando apenas a cidade e o nome\n",
        "query = Query(\"rigoroso\") \\\n",
        "   .return_field(\"$.address.city\", as_field=\"city\") \\\n",
        "   .return_field(\"$.name\", as_field=\"name\")\n",
        "res = r.ft(\"idx:schools_json\").search(query)\n",
        "res_df = pd.DataFrame([t.__dict__ for t in res.docs])\n",
        "display(res_df)"
      ],
      "metadata": {
        "id": "jFTjK6bUDlog"
      },
      "execution_count": null,
      "outputs": []
    },
    {
      "cell_type": "markdown",
      "source": [
        "### Exemplo Avançado: Busca Multi-Faceta e por Intervalo\n",
        "\n",
        "Agora, vamos fazer uma consulta um pouco mais complexa. Suponha que queremos encontrar escolas em São Paulo com um número de alunos entre 300 e 2000. Esse exemplo usa um match exato (TAG) e um intervalo numérico.\n"
      ],
      "metadata": {
        "id": "NQb4sfM2DoSF"
      }
    },
    {
      "cell_type": "code",
      "source": [
        "# Busca de escolas em São Paulo com 300 a 2000 alunos\n",
        "query = Query('@city:{São Paulo} @students:[300, 2000]') \\\n",
        "   .return_field(\"$.address.city\", as_field=\"city\") \\\n",
        "   .return_field(\"$.name\", as_field=\"name\") \\\n",
        "   .return_field(\"$.students\", as_field=\"students\")\n",
        "res = r.ft(\"idx:schools_json\").search(query)\n",
        "res_df = pd.DataFrame([t.__dict__ for t in res.docs])\n",
        "display(res_df)"
      ],
      "metadata": {
        "id": "hiKM3rZUDyFz"
      },
      "execution_count": null,
      "outputs": []
    },
    {
      "cell_type": "markdown",
      "source": [
        "Esses exemplos mostram como o Redis pode ser utilizado para criar consultas avançadas em dados JSON, oferecendo uma abordagem eficiente e escalável para buscas complexas e multi-dimensionais.\n",
        "\n",
        "Essa estrutura mantém o foco em introduzir a criação de índices e execução de consultas com `RediSearch`, cobrindo tanto buscas simples quanto avanços para consultas de múltiplas facetas e intervalos."
      ],
      "metadata": {
        "id": "3jmxXxpxD13K"
      }
    },
    {
      "cell_type": "markdown",
      "source": [
        "# Casos de uso poderosos e mais avançados\n",
        "*(não são complexos, é tranquilo entender)*\n",
        "\n",
        "## Busca por Tags - Encontrando escolas com características específicas\n",
        "\n",
        "Nesta seção, vamos realizar buscas utilizando tags.\n",
        "\n",
        "Tags permitem buscas exatas em campos específicos. Mas isso não quer dizer que você não pode usar wildcards.\n"
      ],
      "metadata": {
        "id": "5aT7CpefEkOL"
      }
    },
    {
      "cell_type": "code",
      "source": [
        "# Busca por tags com suporte a wildcards - PT-BR\n",
        "query = Query('@tags:{inovaçã*}') \\\n",
        "    .return_field(\"$.address.city\", as_field=\"city\") \\\n",
        "    .return_field(\"$.name\", as_field=\"name\")\n",
        "res = r.ft(\"idx:schools_json\").search(query)\n",
        "res_df = pd.DataFrame([t.__dict__ for t in res.docs])\n",
        "print(res_df)"
      ],
      "metadata": {
        "id": "IoFYa6GZEoSa"
      },
      "execution_count": null,
      "outputs": []
    },
    {
      "cell_type": "markdown",
      "source": [
        "## Busca por Intervalo - Quantos alunos estão matriculados?\n",
        "\n",
        "Para realizar buscas por intervalos em campos numéricos, como a quantidade de alunos em uma escola, podemos utilizar consultas de intervalo.\n",
        "\n",
        "**Não se assustem com `inf+` e `inf-`!**\n",
        "Esses termos são utilizados para representar o intervalo máximo e mínimo.\\\n",
        "Eles são úteis quando você quer incluir todos os valores acima ou abaixo de um determinado limite."
      ],
      "metadata": {
        "id": "ZKoitdAfErhT"
      }
    },
    {
      "cell_type": "code",
      "source": [
        "# Busca por escolas com entre 300 e 1000 alunos (inclusivo)\n",
        "search = '@students:[300 1000]'\n",
        "query = Query(search) \\\n",
        "    .return_field(\"$.address.city\", as_field=\"city\") \\\n",
        "    .return_field(\"$.name\", as_field=\"name\") \\\n",
        "    .return_field(\"$.students\", as_field=\"students\")\n",
        "res = r.ft(\"idx:schools_json\").search(query)\n",
        "res_df = pd.DataFrame([t.__dict__ for t in res.docs])\n",
        "print(\"--------------------------------------------------------------------\")\n",
        "print(\"Escolas com entre 300 e 1000 estudantes\")\n",
        "print(res_df)\n",
        "\n",
        "# Busca por escolas com mais de 1000 alunos (exclusivo)\n",
        "search = '@students:[(1000 +inf]'\n",
        "query = Query(search) \\\n",
        "    .return_field(\"$.address.city\", as_field=\"city\") \\\n",
        "    .return_field(\"$.name\", as_field=\"name\") \\\n",
        "    .return_field(\"$.students\", as_field=\"students\")\n",
        "res = r.ft(\"idx:schools_json\").search(query)\n",
        "res_df = pd.DataFrame([t.__dict__ for t in res.docs])\n",
        "print(\"--------------------------------------------------------------------\")\n",
        "print(\"Escolas com mais de 1000 estudantes\")\n",
        "print(res_df)\n",
        "\n",
        "# Busca por escolas com menos de 300 alunos (inclusivo)\n",
        "search = '@students:[-inf 300]'\n",
        "query = Query(search) \\\n",
        "    .return_field(\"$.address.city\", as_field=\"city\") \\\n",
        "    .return_field(\"$.name\", as_field=\"name\") \\\n",
        "    .return_field(\"$.students\", as_field=\"students\")\n",
        "res = r.ft(\"idx:schools_json\").search(query)\n",
        "res_df = pd.DataFrame([t.__dict__ for t in res.docs])\n",
        "print(\"--------------------------------------------------------------------\")\n",
        "print(\"Escolas com menos de 300 estudantes\")\n",
        "print(res_df)"
      ],
      "metadata": {
        "id": "y78-yHarE4sf"
      },
      "execution_count": null,
      "outputs": []
    },
    {
      "cell_type": "markdown",
      "source": [
        "## Fuzzy Match - Busca com Correspondência Aproximada\n",
        "\n",
        "Para realizar buscas onde o termo exato pode não ser conhecido, o Redis permite a correspondência aproximada (fuzzy match) utilizando a distância de Levenshtein."
      ],
      "metadata": {
        "id": "5WtNrnE4FCvv"
      }
    },
    {
      "cell_type": "code",
      "source": [
        "# Busca aproximada pelo nome \"Bondeirants\", permitindo erro de digitação\n",
        "query = Query('%%Bondeirants%%') \\\n",
        "   .return_field(\"$.address.city\", as_field=\"city\") \\\n",
        "   .return_field(\"$.name\", as_field=\"name\") \\\n",
        "   .return_field(\"$.students\", as_field=\"students\")\n",
        "res = r.ft(\"idx:schools_json\").search(query)\n",
        "res_df = pd.DataFrame([t.__dict__ for t in res.docs])\n",
        "print(\"Escolas encontradas com fuzzy match para 'Bondeirants':\")\n",
        "display(res_df)"
      ],
      "metadata": {
        "id": "axyL6bCsFIop"
      },
      "execution_count": null,
      "outputs": []
    },
    {
      "cell_type": "markdown",
      "source": [
        "## Suporte a Sinônimos - Agrupando Termos Relacionados\n",
        "\n",
        "O Redis Stack permite a criação de grupos de sinônimos, possibilitando buscas que retornam documentos contendo termos semelhantes.\n",
        "\n"
      ],
      "metadata": {
        "id": "2OamCVg2FLoY"
      }
    },
    {
      "cell_type": "code",
      "source": [
        "# Configurar grupo de sinônimos (exemplo não usual para ilustrar a flexibilidade)\n",
        "r.ft(\"idx:schools_json\").synupdate(\"synonym_maluco_1\", False, \"Perfeito\", \"CristianoRonaldo\", \"CR7\")\n",
        "\n",
        "# Buscar utilizando sinônimo\n",
        "search = 'CristianoRonaldo'\n",
        "query = Query(search) \\\n",
        "    .return_field(\"$.address.city\", as_field=\"city\") \\\n",
        "    .return_field(\"$.name\", as_field=\"name\") \\\n",
        "    .return_field(\"$.description\", as_field=\"description\")\n",
        "res = r.ft(\"idx:schools_json\").search(query)\n",
        "res_df = pd.DataFrame([t.__dict__ for t in res.docs])\n",
        "print(\"Busca por 'Cristiano Ronaldo' usando sinônimos:\")\n",
        "display(res_df)"
      ],
      "metadata": {
        "id": "2_D0w7vcFQJB"
      },
      "execution_count": null,
      "outputs": []
    },
    {
      "cell_type": "markdown",
      "source": [
        "## Suporte a Stemming - Buscando pelo Radical da Palavra\n",
        "\n",
        "O **Redis Stack** oferece suporte a Stemming, permitindo que a busca por um termo inclua outras variações com o mesmo radical."
      ],
      "metadata": {
        "id": "ldA2z7PyFU4K"
      }
    },
    {
      "cell_type": "code",
      "source": [
        "# Criação do índice com suporte a Stemming em inglês\n",
        "try:\n",
        "    r.ft(\"idx:schools_stemming\").dropindex(delete_documents=False)\n",
        "except:\n",
        "    pass\n",
        "\n",
        "schema = (\n",
        "    TextField(\"$.name\", as_name=\"name\"),\n",
        "    TextField(\"$.description\", as_name=\"description\")\n",
        ")\n",
        "r.ft(\"idx:schools_stemming\").create_index(schema, definition=IndexDefinition(prefix=[\"school_json:\"], index_type=IndexType.JSON, language='english'))\n",
        "\n",
        "# Adicionar documentos de exemplo para teste de stemming\n",
        "r.json().set('school_json:10', '$', {\"name\": \"School Hiring\", \"description\": \"just to avoid confusion\"})\n",
        "r.json().set('school_json:11', '$', {\"name\": \"College Hire\", \"description\": \"just to avoid confusion\"})\n",
        "r.json().set('school_json:12', '$', {\"name\": \"Academy of Hired\", \"description\": \"just to avoid confusion\"})\n",
        "\n",
        "# Busca com Stemming para \"hiring\"\n",
        "search = '@name:(hiring)'\n",
        "query = Query(search) \\\n",
        "    .return_field(\"$.name\", as_field=\"name\") \\\n",
        "    .return_field(\"$.description\", as_field=\"description\")\n",
        "res = r.ft(\"idx:schools_stemming\").search(query)\n",
        "res_df = pd.DataFrame([t.__dict__ for t in res.docs])\n",
        "print(\"Busca por 'hiring' com suporte a Stemming:\")\n",
        "display(res_df)"
      ],
      "metadata": {
        "id": "A54ayY2FFaAr"
      },
      "execution_count": null,
      "outputs": []
    },
    {
      "cell_type": "markdown",
      "source": [
        "## Suporte a Correspondência Fonética - Buscas por Similaridade de Som\n",
        "\n",
        "A correspondência fonética no Redis usa o algoritmo Double Metaphone (DM) para encontrar termos similares em som, como variações de nomes próprios."
      ],
      "metadata": {
        "id": "lG9WwTWKFkkv"
      }
    },
    {
      "cell_type": "code",
      "source": [
        "# Criar o índice com correspondência fonética\n",
        "!redis-cli $REDIS_CONN FT.DROPINDEX idx:schools_phonetic || true\n",
        "!redis-cli $REDIS_CONN FT.CREATE idx:schools_phonetic ON JSON PREFIX 1 school_json: LANGUAGE portuguese SCHEMA $.name AS name TEXT PHONETIC dm:pt $.description AS description TEXT\n",
        "\n",
        "# Adicionar documentos para busca fonética\n",
        "!redis-cli $REDIS_CONN JSON.SET school_json:30 $ \"{\\\"name\\\": \\\"Escola João\\\", \\\"description\\\": \\\"Um ótimo lugar para aprender\\\"}\"\n",
        "!redis-cli $REDIS_CONN JSON.SET school_json:31 $ \"{\\\"name\\\": \\\"Escola Jão\\\", \\\"description\\\": \\\"Uma excelente instituição educacional\\\"}\"\n",
        "!redis-cli $REDIS_CONN JSON.SET school_json:32 $ \"{\\\"name\\\": \\\"Escola Joãozinho\\\", \\\"description\\\": \\\"Educação de primeira qualidade\\\"}\"\n",
        "\n",
        "# Executar consultas fonéticas\n",
        "!echo \"Busca por 'João' que deve retornar documentos com 'João' e 'Jão', em ordem decrescente\"\n",
        "!redis-cli $REDIS_CONN FT.SEARCH idx:schools_phonetic \"João\" LANGUAGE portuguese SORTBY name DESC RETURN 1 name\n",
        "\n",
        "!echo \"Busca por 'Jão' que deve retornar documentos com 'Jão' e 'João', em ordem crescente\"\n",
        "!redis-cli $REDIS_CONN FT.SEARCH idx:schools_phonetic \"Jão\" LANGUAGE portuguese SORTBY name ASC RETURN 1 name\n",
        "\n",
        "!echo \"Busca por 'Joãozinho' que deve retornar apenas o documento exato\"\n",
        "!redis-cli $REDIS_CONN FT.SEARCH idx:schools_phonetic \"Joãozinho\" LANGUAGE portuguese SORTBY name DESC"
      ],
      "metadata": {
        "id": "iUtv8krbFnFc"
      },
      "execution_count": null,
      "outputs": []
    },
    {
      "cell_type": "markdown",
      "source": [
        "Essas consultas demonstram a flexibilidade do Redis em suportar buscas complexas e avançadas, como correspondências fonéticas, aproximações e agrupamentos por sinônimos. Cada exemplo pode ser adaptado para casos de uso específicos no desenvolvimento de aplicações robustas e ricas em recursos de pesquisa."
      ],
      "metadata": {
        "id": "XbR0lnWtFv2G"
      }
    },
    {
      "cell_type": "markdown",
      "source": [
        "# Busca Complexa no Redis: O Grand Finale\n",
        "\n",
        "Nesta última parte do nosso workshop, vamos realizar uma busca complexa combinando várias funcionalidades avançadas. Vamos explorar:\n",
        "\n",
        "- **Fuzzy Search:** Para encontrar termos similares ao termo de busca.\n",
        "- **Full Text Search:** Para buscar termos em campos de texto.\n",
        "- **Tag Search:** Para encontrar correspondências exatas em campos de tags.\n",
        "- **Geolocation Search:** Para buscar documentos dentro de um raio específico.\n",
        "- **Range Search:** Para buscar documentos com valores numéricos em intervalos.\n",
        "- **Sorting:** Para ordenar os resultados."
      ],
      "metadata": {
        "id": "5-GEpOAIF8E7"
      }
    },
    {
      "cell_type": "code",
      "source": [
        "# Busca Complexa com Fuzzy, Full Text, Tag, Geolocation, Range e Ordenação\n",
        "search = '%%Colejio%% (@name:Colégio|Banana) @city:{São Paulo} @tags:{tecnologia|ambiental|java} @location:[-46.633308 -23.550520 100000 km] @students:[25 400]'\n",
        "query = Query(search) \\\n",
        "    .return_field(\"$.name\", as_field=\"name\") \\\n",
        "    .return_field(\"$.students\", as_field=\"students\") \\\n",
        "    .sort_by(\"students\", asc=False)\n",
        "res = r.ft(\"idx:schools_json\").search(query)\n",
        "res_df = pd.DataFrame([t.__dict__ for t in res.docs])\n",
        "\n",
        "print(\"--------------------------------------------------------------------\")\n",
        "print(\"Busca Complexa: Fuzzy, Full Text, Tag, Geoloc, Range e Sort\")\n",
        "print(\"Search: {0}\".format(search))\n",
        "display(res_df)\n",
        "print(\"--------------------------------------------------------------------\")"
      ],
      "metadata": {
        "id": "TXEy-4nbGCaz"
      },
      "execution_count": null,
      "outputs": []
    },
    {
      "cell_type": "markdown",
      "source": [
        "## Agregações - Agrupando e Somando Resultados com FT.AGGREGATE\n",
        "\n",
        "As agregações permitem criar relatórios analíticos ou consultas facetadas no Redis. Vamos agrupar escolas por cidade e contar o número de escolas, e depois fazer o mesmo com a soma de estudantes."
      ],
      "metadata": {
        "id": "RXrp3hRtGGvN"
      }
    },
    {
      "cell_type": "code",
      "source": [
        "from redis.commands.search.aggregation import AggregateRequest\n",
        "from redis.commands.search import reducers\n",
        "\n",
        "# Helper para exibir resultados do FT.AGGREGATE como DataFrame\n",
        "def display_ft_agg(res):\n",
        "    data = [[item for item in sublist] for sublist in res.rows]\n",
        "    columns = {sublist[i]: [] for sublist in data for i in range(0, len(sublist), 2)}\n",
        "    for sublist in data:\n",
        "        for i in range(0, len(sublist), 2):\n",
        "            columns[sublist[i]].append(sublist[i + 1])\n",
        "    df = pd.DataFrame(columns)\n",
        "    display(df)\n",
        "\n",
        "# Agrupamento por cidade para contar o número de escolas\n",
        "request = AggregateRequest(f'*').group_by('@city', reducers.count().alias('count'))\n",
        "res = r.ft(\"idx:schools_json\").aggregate(request)\n",
        "print(\"Número de escolas por cidade:\")\n",
        "display_ft_agg(res)\n",
        "\n",
        "# Agrupamento por cidade para somar o número de estudantes\n",
        "request = AggregateRequest(f'*').group_by('@city', reducers.sum('@students').alias('students_count'))\n",
        "res = r.ft(\"idx:schools_json\").aggregate(request)\n",
        "print(\"Número total de estudantes por cidade:\")\n",
        "display_ft_agg(res)"
      ],
      "metadata": {
        "id": "X98V4riTGJfw"
      },
      "execution_count": null,
      "outputs": []
    },
    {
      "cell_type": "markdown",
      "source": [
        "## Bonus: Verificação Ortográfica com FT.SPELLCHECK\n",
        "\n",
        "A verificação ortográfica permite corrigir termos com erros de digitação ou grafia, sugerindo alternativas com base na distância de Levenshtein.\n",
        "\n",
        "### Configuração do Índice para Spellcheck\n",
        "\n",
        "Primeiro, criamos um índice e adicionamos alguns documentos.\n",
        "\n"
      ],
      "metadata": {
        "id": "ATHodP25GUwn"
      }
    },
    {
      "cell_type": "code",
      "source": [
        "# Criar o índice para Spellcheck\n",
        "!redis-cli $REDIS_CONN FT.DROPINDEX idx:spellcheck || true\n",
        "!redis-cli $REDIS_CONN FT.CREATE idx:spellcheck ON JSON PREFIX 1 doc: SCHEMA $.content AS content TEXT\n",
        "\n",
        "# Adicionar documentos de exemplo\n",
        "!redis-cli $REDIS_CONN JSON.SET doc:1 $ \"{\\\"content\\\": \\\"Redis is an in-memory data structure store.\\\"}\"\n",
        "!redis-cli $REDIS_CONN JSON.SET doc:2 $ \"{\\\"content\\\": \\\"Redis provides high availability through Redis Sentinel.\\\"}\"\n",
        "!redis-cli $REDIS_CONN JSON.SET doc:3 $ \"{\\\"content\\\": \\\"Redis is used for caching, real-time analytics, and message brokering.\\\"}\""
      ],
      "metadata": {
        "id": "Hr5QtXGfGb-x"
      },
      "execution_count": null,
      "outputs": []
    },
    {
      "cell_type": "markdown",
      "source": [
        "### Execução do Spellcheck\n",
        "\n",
        "Agora vamos testar a correção ortográfica com diferentes níveis de Levenshtein."
      ],
      "metadata": {
        "id": "8Muuf3YxGffx"
      }
    },
    {
      "cell_type": "code",
      "source": [
        "# Correção ortográfica para \"Redsi\" com DISTANCE 1\n",
        "!echo \"Verificação ortográfica para 'Redsi' com DISTANCE 1:\"\n",
        "!redis-cli $REDIS_CONN FT.SPELLCHECK idx:spellcheck Redsi DISTANCE 1\n",
        "!echo \"\"\n",
        "\n",
        "# Correção ortográfica para \"Rédiz\" com DISTANCE 1\n",
        "!echo \"Verificação ortográfica para 'Rédiz' com DISTANCE 1:\"\n",
        "!redis-cli $REDIS_CONN FT.SPELLCHECK idx:spellcheck Rédiz DISTANCE 1\n",
        "!echo \"\"\n",
        "\n",
        "# Correção ortográfica para \"Rédiz\" com DISTANCE 2\n",
        "!echo \"Verificação ortográfica para 'Rédiz' com DISTANCE 2:\"\n",
        "!redis-cli $REDIS_CONN FT.SPELLCHECK idx:spellcheck Rédiz DISTANCE 2\n",
        "!echo \"\""
      ],
      "metadata": {
        "id": "UlaFQ0qTGq3i"
      },
      "execution_count": null,
      "outputs": []
    },
    {
      "cell_type": "markdown",
      "source": [
        "Com essa última seção, você explorou alguns dos recursos mais avançados e poderosos do Redis, combinando buscas complexas, agregações, e verificações ortográficas. Pronto para o próximo nível: busca com vetores e integração com modelos de Machine Learning no próximo notebook!"
      ],
      "metadata": {
        "id": "4AExiX-GGxY2"
      }
    }
  ]
}