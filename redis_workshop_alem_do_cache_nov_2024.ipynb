{
  "cells": [
    {
      "cell_type": "markdown",
      "metadata": {
        "id": "view-in-github",
        "colab_type": "text"
      },
      "source": [
        "<a href=\"https://colab.research.google.com/github/gacerioni/redis-workshop-series-ptbr-gabs/blob/main/redis_workshop_alem_do_cache_nov_2024.ipynb\" target=\"_parent\"><img src=\"https://colab.research.google.com/assets/colab-badge.svg\" alt=\"Open In Colab\"/></a>"
      ]
    },
    {
      "cell_type": "markdown",
      "metadata": {
        "id": "LDFnzeLwjmXL"
      },
      "source": [
        "# Workshop - Redis muito além do Cache - 2024\n",
        "\n",
        "![Redis](https://redis.io/wp-content/uploads/2024/04/Logotype.svg?auto=webp&quality=85,75&width=120)\n",
        "\n",
        "\n",
        "\n",
        "Bem-vindo ao workshop hands-on \"Redis Muito Além do Cache\"! Aqui, você terá uma experiência prática com os principais data types do Redis, explorando além do uso básico como cache. Vamos focar em como o Redis pode ser usado como um banco de dados completo e versátil.\n",
        "\n",
        "\n",
        "Para uma experiência premium, como a que eu quero que vocês tenham, recomendo MUITO utilizar o Redis Insight (App ou Web) pra apoiar na visualização dos dados.\n",
        "\n",
        "https://redis.com/redis-enterprise/redis-insight/\n",
        "\n",
        "---\n",
        "\n",
        "## 🤯 Não tem um Redis ainda? Agora você vai ter! 🚀\n",
        "\n",
        "O **Redis** é sempre o mesmo, independente da offering dele. Jamais iremos criar impedância ou complexidade entre as APIs, e isso inclui o Community Edition.\n",
        "\n",
        "De qualquer forma, recomendo que vocês façam esse tutorial usando o [Redis Cloud](https://redis.io/try-free/). Free forever, sem pegadinha, e você já faz o onboarding na plataforma SaaS.\n",
        "\n"
      ]
    },
    {
      "cell_type": "markdown",
      "source": [
        "## Objetivos do Workshop\n",
        "\n",
        "O objetivo deste notebook é apresentar as principais estruturas de dados do Redis e proporcionar uma prática interativa com cada uma delas. Nosso foco será na execução de comandos e na manipulação de dados em tempo real, com exemplos que você pode adaptar para suas próprias aplicações.\n",
        "\n",
        "**Nota**: Já configuramos um ambiente de desenvolvimento no Google Colab para você começar imediatamente."
      ],
      "metadata": {
        "id": "4qTOaeeMjwzo"
      }
    },
    {
      "cell_type": "markdown",
      "source": [
        "## Setup Inicial\n",
        "\n",
        "Antes de começar a explorar, vamos configurar o ambiente e garantir que você esteja pronto para executar comandos Redis diretamente no Google Colab."
      ],
      "metadata": {
        "id": "Px9l1ToXAD90"
      }
    },
    {
      "cell_type": "code",
      "execution_count": null,
      "metadata": {
        "id": "maAiICvM-cTX"
      },
      "outputs": [],
      "source": [
        "# Instala a biblioteca Redis para Python\n",
        "!pip install -q redis\n",
        "\n",
        "# Instala a CLI do Redis (redis-tools) para executar comandos diretamente\n",
        "!apt-get update -qq\n",
        "!apt-get install -y -qq redis-tools\n",
        "\n",
        "# Configuração da conexão com o Redis Cloud (preencha com suas credenciais)\n",
        "import os\n",
        "\n",
        "REDIS_HOST = \"redis-18443.c309.us-east-2-1.ec2.redns.redis-cloud.com\"  # Exemplo: \"redis-12345.c1.sa-east-1-3.ec2.cloud.redislabs.com\"\n",
        "REDIS_PORT = 18443             # Porta do seu Redis\n",
        "REDIS_PASSWORD = \"Secret@42\"   # Senha do Redis\n",
        "\n",
        "# Definindo a variável de ambiente para usar a redis-cli\n",
        "os.environ[\"REDIS_CONN\"] = f\"-h {REDIS_HOST} -p {REDIS_PORT} -a {REDIS_PASSWORD} --no-auth-warning\"\n",
        "\n",
        "# Testando a conexão com o Redis Cloud\n",
        "!redis-cli $REDIS_CONN PING\n",
        "\n",
        "# Importando a biblioteca redis-py e testando a conexão\n",
        "import redis\n",
        "\n",
        "r = redis.Redis(\n",
        "    host=REDIS_HOST,\n",
        "    port=REDIS_PORT,\n",
        "    password=REDIS_PASSWORD,\n",
        "    decode_responses=True\n",
        ")\n",
        "\n",
        "# Testando a conexão com o Redis usando redis-py\n",
        "if r.ping():\n",
        "    print(\"Conexão com o Redis bem-sucedida!\")\n",
        "else:\n",
        "    print(\"Erro ao conectar com o Redis.\")"
      ]
    },
    {
      "cell_type": "markdown",
      "source": [
        "Agora que você está com tudo configurado, vamos começar a explorar os data types básicos do Redis e realizar alguns exercícios interativos para entender como eles funcionam na prática."
      ],
      "metadata": {
        "id": "AgroIVknws6b"
      }
    },
    {
      "cell_type": "markdown",
      "source": [
        "# Data Types Básicos no Redis\n",
        "\n",
        "**O Redis oferece uma variedade de estruturas de dados, cada uma otimizada para diferentes cenários de uso. Aqui, vamos explorar os principais data types com exemplos rápidos para entender suas funcionalidades.**\n",
        "\n",
        "## 1. Strings\n",
        "As **Strings** são o data type mais simples no Redis, armazenando qualquer sequência de bytes, como texto ou números. Elas são amplamente usadas para contadores, sessões de usuário, e caching de valores simples.\n",
        "\n",
        "**Exemplo de Caso de Uso**: Cache Aside, contadores e KV-stores, Lock Distribuído, Rate Limiter, Session Storage, Feature Flags, Gaming, etc.\n",
        "\n",
        "### Exemplo com Strings\n",
        "\n"
      ],
      "metadata": {
        "id": "arosv6wAmV1P"
      }
    },
    {
      "cell_type": "code",
      "source": [
        "# Armazenar um valor simples (pode ser uma configuração ou dado de cache)\n",
        "r.set(\"config:modo\", \"produção\")\n",
        "print(\"Modo atual:\", r.get(\"config:modo\"))\n",
        "\n",
        "# Atualizar o valor (simular uma mudança de configuração)\n",
        "r.set(\"config:modo\", \"manutenção\")\n",
        "print(\"Modo atualizado:\", r.get(\"config:modo\"))\n",
        "\n",
        "# Usar Strings como um contador para likes em um post\n",
        "r.set(\"post:123:likes\", 10)\n",
        "print(\"Likes iniciais:\", r.get(\"post:123:likes\"))\n",
        "\n",
        "# Incrementar e decrementar o contador de likes\n",
        "r.incr(\"post:123:likes\")\n",
        "print(\"Likes após um incremento:\", r.get(\"post:123:likes\"))\n",
        "r.decr(\"post:123:likes\")\n",
        "print(\"Likes após um decremento:\", r.get(\"post:123:likes\"))\n",
        "\n",
        "# Simular uma expiração (TTL) para uma sessão de usuário\n",
        "r.setex(\"sessao:usuario:456\", 30, \"ativo\")\n",
        "print(\"Sessão de usuário criada com TTL de 30 segundos.\")"
      ],
      "metadata": {
        "id": "jRZ3JNnPt0qQ"
      },
      "execution_count": null,
      "outputs": []
    },
    {
      "cell_type": "markdown",
      "source": [
        "## 2. Lists\n",
        "\n",
        "As **Lists** são coleções ordenadas de strings, úteis para filas de tarefas ou logs. Podem funcionar como uma fila (FIFO) ou uma pilha (LIFO). A API do Redis fornece muitos comandos seguros, atômicos e previsíveis para você implementar arquiteturas e filas robustas e prontas para PROD. Simples é bem diferente de frágil. 90% de todas as transações financeiras que você faz em um dia passaram por um Redis.\n",
        "\n",
        "Caso de Uso: Implementar filas simples de mensagens, arquiteturas desacopladas, arquiteturas assíncronas, sistemas de vazão, integração com Lambdas, Triggers, Filas de Trabalho, etc.\n",
        "\n",
        "### Exemplo com Lists\n"
      ],
      "metadata": {
        "id": "Q0O6WwbeAKAA"
      }
    },
    {
      "cell_type": "code",
      "source": [
        "# Simular uma fila de tarefas com LPUSH e RPOP (FIFO)\n",
        "r.lpush(\"fila:tarefas\", \"tarefa1\", \"tarefa2\", \"tarefa3\")\n",
        "print(\"Tarefas na fila (FIFO):\", r.lrange(\"fila:tarefas\", 0, -1))\n",
        "\n",
        "# Remover e processar a tarefa mais antiga\n",
        "tarefa = r.rpop(\"fila:tarefas\")\n",
        "print(\"Processando:\", tarefa)\n",
        "print(\"Tarefas restantes na fila:\", r.lrange(\"fila:tarefas\", 0, -1))\n",
        "\n",
        "# Simular uma pilha de mensagens (LIFO)\n",
        "r.rpush(\"pilha:mensagens\", \"mensagem1\", \"mensagem2\", \"mensagem3\")\n",
        "print(\"Mensagens na pilha (LIFO):\", r.lrange(\"pilha:mensagens\", 0, -1))\n",
        "\n",
        "# Remover e processar a mensagem mais recente\n",
        "mensagem = r.rpop(\"pilha:mensagens\")\n",
        "print(\"Processando mensagem:\", mensagem)\n",
        "print(\"Mensagens restantes na pilha:\", r.lrange(\"pilha:mensagens\", 0, -1))"
      ],
      "metadata": {
        "id": "RFbo0bebAq8b"
      },
      "execution_count": null,
      "outputs": []
    },
    {
      "cell_type": "markdown",
      "source": [
        "## 3. Sets\n",
        "\n",
        "Os **Sets** são coleções de strings únicas, ideais para armazenar elementos sem duplicatas. São úteis para deduplicação, gerenciamento de IDs únicos, ou até para operações de conjuntos, como interseção e união.\n",
        "\n",
        "Caso de Uso: Listar usuários únicos online em uma aplicação, deduplicar itens, aplicar teoria dos conjuntos, ou até criar índices secundários personalizados.\n",
        "\n",
        "### Exemplo com Sets"
      ],
      "metadata": {
        "id": "Scy_-4rZBat3"
      }
    },
    {
      "cell_type": "code",
      "source": [
        "# Adicionar usuários únicos online\n",
        "r.sadd(\"usuarios:online\", \"alice\", \"bob\", \"carol\")\n",
        "print(\"Usuários online:\", r.smembers(\"usuarios:online\"))\n",
        "\n",
        "# Adicionar um usuário duplicado (não será adicionado novamente)\n",
        "r.sadd(\"usuarios:online\", \"alice\")\n",
        "print(\"Usuários online (após tentativa de duplicação):\", r.smembers(\"usuarios:online\"))\n",
        "\n",
        "# Remover um usuário que saiu\n",
        "r.srem(\"usuarios:online\", \"bob\")\n",
        "print(\"Usuários online (após saída de Bob):\", r.smembers(\"usuarios:online\"))\n",
        "\n",
        "# Operações de conjuntos: Simular interseção com outro set de usuários\n",
        "r.sadd(\"usuarios:ativos\", \"alice\", \"dave\", \"carol\")\n",
        "interseccao = r.sinter(\"usuarios:online\", \"usuarios:ativos\")\n",
        "print(\"Usuários online e ativos:\", interseccao)"
      ],
      "metadata": {
        "id": "ft-yeq0XB4vR"
      },
      "execution_count": null,
      "outputs": []
    },
    {
      "cell_type": "markdown",
      "source": [
        "## 4. Sorted Sets\n",
        "\n",
        "Os **Sorted Sets** são como sets, mas com uma pontuação associada a cada elemento, o que permite manter os elementos ordenados. Eles são ideais para rankings, agendamentos, e qualquer caso em que a ordem baseada em pontuação seja importante.\n",
        "\n",
        "Caso de Uso: Classificação de jogadores em um jogo, leaderboards em geral, análises em tempo real, agendamento de tarefas, ou filas de prioridade.\n",
        "\n",
        "### Exemplo com Sorted Sets\n",
        "\n"
      ],
      "metadata": {
        "id": "CEh0v3F4G2T2"
      }
    },
    {
      "cell_type": "code",
      "source": [
        "# Adicionar jogadores com suas pontuações\n",
        "r.zadd(\"jogo:ranking\", {\"player1\": 1500, \"player2\": 3000, \"player3\": 2500})\n",
        "print(\"Ranking dos jogadores (do menor para o maior):\", r.zrange(\"jogo:ranking\", 0, -1, withscores=True))\n",
        "\n",
        "# Consultar o ranking em ordem decrescente (do maior para o menor)\n",
        "print(\"Ranking dos jogadores (do maior para o menor):\", r.zrevrange(\"jogo:ranking\", 0, -1, withscores=True))\n",
        "\n",
        "# Atualizar a pontuação de um jogador\n",
        "r.zincrby(\"jogo:ranking\", 500, \"player1\")\n",
        "print(\"Ranking atualizado (do maior para o menor):\", r.zrevrange(\"jogo:ranking\", 0, -1, withscores=True))\n",
        "\n",
        "# Consultar a posição de um jogador\n",
        "posicao = r.zrevrank(\"jogo:ranking\", \"player1\")\n",
        "print(\"Posição do player1 no ranking:\", posicao + 1)  # +1 para uma posição humana (começando do 1)\n",
        "\n",
        "# Remover um jogador do ranking\n",
        "r.zrem(\"jogo:ranking\", \"player2\")\n",
        "print(\"Ranking após remoção de player2:\", r.zrevrange(\"jogo:ranking\", 0, -1, withscores=True))"
      ],
      "metadata": {
        "id": "bF92VOkyHZeN"
      },
      "execution_count": null,
      "outputs": []
    },
    {
      "cell_type": "markdown",
      "source": [
        "## 5. Hashes\n",
        "\n",
        "Os **Hashes** são coleções de pares campo-valor, úteis para armazenar objetos, como perfis de usuários ou configurações. Você também pode setar TTLs para cada sub-key, abrindo ainda mais possibilidades e controle.\n",
        "\n",
        "Caso de Uso: Armazenar informações de usuário de maneira estruturada, banco de dados primário, NoSQL, ORM, Session Storage, AIML Feature Stores, etc.\n",
        "\n",
        "### Exemplo com Hashes"
      ],
      "metadata": {
        "id": "BtylAtpoH7LG"
      }
    },
    {
      "cell_type": "code",
      "source": [
        "# Criar um hash com informações de usuário\n",
        "r.hset(\"usuario:1001\", mapping={\"nome\": \"Gabriel\", \"email\": \"gabriel@example.com\", \"idade\": \"32\"})\n",
        "print(\"Perfil do usuário:\", r.hgetall(\"usuario:1001\"))\n",
        "\n",
        "# Recuperar apenas um campo específico (email)\n",
        "email = r.hget(\"usuario:1001\", \"email\")\n",
        "print(\"Email do usuário:\", email)\n",
        "\n",
        "# Atualizar a idade do usuário\n",
        "r.hset(\"usuario:1001\", \"idade\", \"33\")\n",
        "print(\"Perfil atualizado:\", r.hgetall(\"usuario:1001\"))\n",
        "\n",
        "# Remover um campo do hash (por exemplo, o email)\n",
        "r.hdel(\"usuario:1001\", \"email\")\n",
        "print(\"Perfil após remoção do email:\", r.hgetall(\"usuario:1001\"))\n",
        "\n",
        "# Definir um TTL para a chave do usuário (expira após 60 segundos)\n",
        "r.expire(\"usuario:1001\", 60)\n",
        "print(\"TTL definido para a chave 'usuario:1001' (60 segundos)\")"
      ],
      "metadata": {
        "id": "CiOWSc3oJrJi"
      },
      "execution_count": null,
      "outputs": []
    },
    {
      "cell_type": "markdown",
      "source": [
        "### Exercício com Hashes - HASH Sub-Key Expiration\n",
        "\n",
        "Com o Redis 7.4, é possível aplicar expirações (TTL) a campos individuais, o que abre novas possibilidades para gerenciar dados temporários."
      ],
      "metadata": {
        "id": "K1-HnzT4Juc2"
      }
    },
    {
      "cell_type": "code",
      "source": [
        "# Criar um hash simulando dados de sessão do usuário\n",
        "r.hset(\"sessao:usuario:1337\", mapping={\n",
        "    \"nome\": \"Gabriel\",\n",
        "    \"sobrenome\": \"Cerioni\",\n",
        "    \"token\": \"super-token-secreto<....>\",            # Token que expira\n",
        "    \"ultimo_login\": \"2024-11-04\",\n",
        "    \"pais_origem\": \"BRA\",\n",
        "    \"geoloc_estimado\": \"-46.63389,-23.55028\",        # Praça da Sé, SP\n",
        "    \"user_tier_level\": 3                             # Imagine um sistema de Tier de 0-10 (noob to VIP)\n",
        "})\n",
        "print(\"Dados da sessão:\", r.hgetall(\"sessao:usuario:1337\"))\n",
        "\n",
        "# Aplicar um TTL de 30 segundos apenas ao campo 'token' usando HEXPIRE\n",
        "r.execute_command(\"HEXPIRE\", \"sessao:usuario:1337\", 30, \"FIELDS\", 1, \"token\")\n",
        "print(\"TTL de 30 segundos definido para o campo 'token'.\")\n",
        "\n",
        "# Verificar os dados da sessão (o token ainda está presente)\n",
        "print(\"Dados da sessão (após definir TTL):\")\n",
        "for campo, valor in r.hgetall(\"sessao:usuario:1337\").items():\n",
        "    print(f\"{campo}: {valor}\")\n",
        "\n",
        "# Após 30 segundos, o campo 'token' será automaticamente removido. Aguarde para ver o efeito.\n",
        "\n",
        "# OPCIONAL - Remover o TTL do campo 'token', tornando-o persistente novamente\n",
        "#r.execute_command(\"HPERSIST\", \"sessao:usuario:1337\", \"FIELDS\", 1, \"token\")\n",
        "#print(\"O campo 'token' agora é persistente novamente:\", r.hgetall(\"sessao:usuario:1337\"))"
      ],
      "metadata": {
        "id": "tGMcwDmHJ5Jj"
      },
      "execution_count": null,
      "outputs": []
    },
    {
      "cell_type": "markdown",
      "source": [
        "### Teaser de Indexação com RediSearch\n",
        "#### *Calma, você ainda vai aprender a usar o `Redis Search and Query Engine`!*\n",
        "\n",
        "Agora que você aprendeu a manipular dados estruturados com Hashes, imagine o poder de realizar buscas otimizadas e complexas. No **Redis**, com **RediSearch**, é possível indexar campos de forma poderosa e eficiente, como neste exemplo rápido de indexação e busca que veremos mais a fundo na próxima sessão:\n",
        "\n",
        "\n",
        "\n"
      ],
      "metadata": {
        "id": "fIk-xpkXOGdi"
      }
    },
    {
      "cell_type": "code",
      "source": [
        "from redis.commands.search.field import TagField, NumericField, GeoField\n",
        "from redis.commands.search.indexDefinition import IndexDefinition, IndexType\n",
        "from redis.commands.search.query import Query\n",
        "\n",
        "# 1. Deletar o índice se ele já existir, para garantir que começamos do zero\n",
        "try:\n",
        "    r.ft(\"idx:sessao_usuarios\").dropindex(delete_documents=False)\n",
        "except:\n",
        "    pass\n",
        "\n",
        "# 2. Criar o índice para o hash 'sessao:usuario:'\n",
        "r.ft(\"idx:sessao_usuarios\").create_index(\n",
        "    [\n",
        "        TagField(\"pais_origem\"),\n",
        "        NumericField(\"user_tier_level\"),\n",
        "        GeoField(\"geoloc_estimado\")\n",
        "    ],\n",
        "    definition=IndexDefinition(prefix=[\"sessao:usuario:\"], index_type=IndexType.HASH)\n",
        ")\n",
        "\n",
        "# 3. Indexar um hash de exemplo com dados de sessão do usuário\n",
        "r.hset(\"sessao:usuario:1337\", mapping={\n",
        "    \"nome\": \"Gabriel\",\n",
        "    \"sobrenome\": \"Cerioni\",\n",
        "    \"token\": \"super-token-secreto<....>\",\n",
        "    \"ultimo_login\": \"2024-11-04\",\n",
        "    \"pais_origem\": \"BRA\",\n",
        "    \"geoloc_estimado\": \"-46.63389,-23.55028\",  # Praça da Sé, SP\n",
        "    \"user_tier_level\": 3\n",
        "})\n",
        "print(\"✅ Dados de sessão indexados com sucesso!\")\n",
        "\n",
        "# 4. Executar uma busca única: usuários do Brasil, nível de tier entre 2 e 5, próximos ao centro de SP\n",
        "query = Query(\"@pais_origem:{BRA} @user_tier_level:[2 5] @geoloc_estimado:[-46.63389 -23.55028 5 km]\")\n",
        "\n",
        "# 5. Executar a busca e exibir os resultados\n",
        "res = r.ft(\"idx:sessao_usuarios\").search(query)\n",
        "print(\"🔍 Resultado da busca com RediSearch:\")\n",
        "for doc in res.docs:\n",
        "    print(doc.__dict__)"
      ],
      "metadata": {
        "id": "8LEM5q4uOzL7"
      },
      "execution_count": null,
      "outputs": []
    },
    {
      "cell_type": "markdown",
      "source": [
        "# Data Types Avançados no Redis\n",
        "\n",
        "Agora que você já conhece os tipos de dados básicos no Redis, chegou a hora de explorar algumas das funcionalidades mais poderosas e avançadas. Esses data types são perfeitos para cenários que exigem alta performance, escalabilidade e funcionalidades que vão muito além de simples caches.\n",
        "\n",
        "Prepare-se para ver o Redis como um verdadeiro *Canivete Suíço* de soluções de dados, desde mensageria em tempo real até armazenamento eficiente de documentos JSON, e tudo isso com exemplos práticos que você poderá adaptar para seus projetos."
      ],
      "metadata": {
        "id": "sHhNGfjERDPM"
      }
    },
    {
      "cell_type": "markdown",
      "source": [
        "## RedisJSON - Redis como um NoSQL Primário\n",
        "\n",
        "O **RedisJSON** é um módulo que permite armazenar, consultar e modificar documentos JSON diretamente no Redis. Ele é especialmente útil para quem precisa trabalhar com dados hierárquicos e quer a flexibilidade de documentos JSON, mas com a performance do Redis.\n",
        "\n",
        "Ele é um bom candidato a ser o seu NoSQL Primário. Integra-se nativamente com ferramentais de CDC e ORM, onde sua aplicação considera o Redis como um DAO Repository ou algo similar, assim como qualquer outro banco de dados NoSQL.\n",
        "\n",
        "### Caso de Uso: Catálogo de Produtos\n",
        "\n",
        "Imagine que você esteja criando um catálogo de produtos para um e-commerce. Você pode armazenar informações complexas como detalhes do produto, preço, inventário e reviews em formato JSON. Isso permite consultas eficientes e a capacidade de atualizar dados específicos de maneira atômica."
      ],
      "metadata": {
        "id": "oFVQ1xtWROOM"
      }
    },
    {
      "cell_type": "code",
      "source": [
        "# Importando a biblioteca para trabalhar com JSON no Redis\n",
        "import redis\n",
        "from redis.commands.json.path import Path\n",
        "\n",
        "# Conectando ao Redis (ajuste as credenciais conforme necessário)\n",
        "r = redis.Redis(\n",
        "    host=REDIS_HOST,\n",
        "    port=REDIS_PORT,\n",
        "    password=REDIS_PASSWORD,\n",
        "    decode_responses=True\n",
        ")\n",
        "\n",
        "# 1. Criar um documento JSON para um produto no catálogo\n",
        "produto = {\n",
        "    \"id\": \"123\",\n",
        "    \"nome\": \"Fone de Ouvido Bluetooth\",\n",
        "    \"marca\": \"MarcaX\",\n",
        "    \"preco\": 299.99,\n",
        "    \"estoque\": 50,\n",
        "    \"reviews\": [\n",
        "        {\"usuario\": \"Alice\", \"comentario\": \"Ótimo produto!\", \"nota\": 5},\n",
        "        {\"usuario\": \"Bob\", \"comentario\": \"Bom custo-benefício.\", \"nota\": 4}\n",
        "    ]\n",
        "}\n",
        "\n",
        "# 2. Armazenar o documento JSON no Redis\n",
        "r.json().set(\"produto:123\", Path.root_path(), produto)\n",
        "print(\"✅ Produto armazenado com sucesso!\")\n",
        "\n",
        "# 3. Consultar o nome e o preço do produto\n",
        "nome = r.json().get(\"produto:123\", Path(\".nome\"))\n",
        "preco = r.json().get(\"produto:123\", Path(\".preco\"))\n",
        "print(f\"Nome: {nome}, Preço: R${preco}\")\n",
        "\n",
        "# 4. Atualizar o preço do produto\n",
        "r.json().set(\"produto:123\", Path(\".preco\"), 279.99)\n",
        "print(\"💰 Preço atualizado para R$279.99!\")\n",
        "\n",
        "# 5. Adicionar um novo review ao produto\n",
        "novo_review = {\"usuario\": \"Carlos\", \"comentario\": \"Funciona muito bem!\", \"nota\": 5}\n",
        "r.json().arrappend(\"produto:123\", Path(\".reviews\"), novo_review)\n",
        "print(\"📝 Novo review adicionado!\")\n",
        "\n",
        "# 6. Consultar o documento atualizado\n",
        "produto_atualizado = r.json().get(\"produto:123\")\n",
        "print(\"🔍 Produto atualizado:\", produto_atualizado)"
      ],
      "metadata": {
        "id": "zIrZLIdBR6M-"
      },
      "execution_count": null,
      "outputs": []
    },
    {
      "cell_type": "markdown",
      "source": [
        "## Redis Pub/Sub - Mensageria em Tempo Real\n",
        "\n",
        "O **Pub/Sub** do Redis é uma ferramenta poderosa para sistemas de mensageria. Ele permite que aplicações publiquem mensagens em canais específicos e que outros sistemas ou serviços se inscrevam (subscribe) para receber essas mensagens em tempo real. Isso é muito útil para criar sistemas distribuídos, notificações em tempo real, ou arquiteturas de eventos.\n",
        "\n",
        "### Caso de Uso: Notificações em Tempo Real\n",
        "\n",
        "Imagine que você tem um sistema de monitoramento em uma aplicação de e-commerce, onde precisa alertar os usuários sobre mudanças de preço, eventos ou novas promoções. O **Redis Pub/Sub** facilita a comunicação em tempo real entre diferentes componentes do sistema.\n",
        "\n",
        "### Exemplo com Pub/Sub\n",
        "\n",
        "No exemplo abaixo, criaremos um simples sistema de publicação e assinatura:"
      ],
      "metadata": {
        "id": "XzgiaM8gS2gJ"
      }
    },
    {
      "cell_type": "code",
      "source": [
        "import threading\n",
        "import time\n",
        "\n",
        "# Função para o assinante\n",
        "def subscriber():\n",
        "    pubsub = r.pubsub()\n",
        "    pubsub.subscribe(\"notificacoes\")\n",
        "\n",
        "    print(\"📡 Assinante aguardando mensagens no canal 'notificacoes'...\")\n",
        "\n",
        "    for mensagem in pubsub.listen():\n",
        "        if mensagem[\"type\"] == \"message\":\n",
        "            print(f\"🔔 Nova mensagem recebida: {mensagem['data']}\")\n",
        "\n",
        "# Iniciar o assinante em uma thread separada\n",
        "assinante_thread = threading.Thread(target=subscriber)\n",
        "assinante_thread.start()\n",
        "\n",
        "# Simular o publicador que envia mensagens\n",
        "time.sleep(2)  # Simula um atraso antes de enviar a mensagem\n",
        "r.publish(\"notificacoes\", \"Promoção: 50% de desconto em todos os produtos!\")\n",
        "time.sleep(1)\n",
        "r.publish(\"notificacoes\", \"Novidade: Lançamos uma nova coleção de verão!\")"
      ],
      "metadata": {
        "id": "TgcJ5YLeTCCf"
      },
      "execution_count": null,
      "outputs": []
    },
    {
      "cell_type": "markdown",
      "source": [
        "## Redis Streams - Comunicação Eficiente e Processamento de Dados\n",
        "\n",
        "O **Redis Stream** é uma estrutura de dados poderosa que permite capturar e distribuir eventos em tempo real. Ele é útil em casos como processamento de logs, filas de eventos distribuídas, ou qualquer aplicação que precise de alta disponibilidade e escalabilidade.\n",
        "\n",
        "### Caso de Uso: Sistema de Processamento de Pedidos\n",
        "\n",
        "Imagine um e-commerce processando pedidos em tempo real. Cada pedido pode ser registrado como uma mensagem na Stream, e grupos de consumidores podem processar esses pedidos em paralelo, distribuindo a carga de trabalho de maneira eficiente.\n",
        "\n",
        "### Exemplo com Redis Streams\n",
        "\n",
        "#### 1. Adicionando Mensagens à Stream\n",
        "\n",
        "Vamos criar uma Stream e adicionar mensagens que representam pedidos de um sistema de e-commerce.\n"
      ],
      "metadata": {
        "id": "WCQPyR3yUKdn"
      }
    },
    {
      "cell_type": "code",
      "source": [
        "# 1. Adicionando Mensagens à Stream\n",
        "print(\"### Adicionando Mensagens à Stream ###\")\n",
        "r.delete(\"pedidos_stream\")  # Deletar a Stream se já existir\n",
        "\n",
        "# Adicionar mensagens\n",
        "r.xadd(\"pedidos_stream\", {\"pedido_id\": \"001\", \"cliente\": \"Gabs\", \"valor\": \"100.00\"})\n",
        "r.xadd(\"pedidos_stream\", {\"pedido_id\": \"002\", \"cliente\": \"Magro\", \"valor\": \"250.50\"})\n",
        "r.xadd(\"pedidos_stream\", {\"pedido_id\": \"003\", \"cliente\": \"Bart\", \"valor\": \"89.99\"})\n",
        "\n",
        "# Verificar mensagens na Stream\n",
        "entradas = r.xrange(\"pedidos_stream\", \"-\", \"+\")\n",
        "print(\"Entradas na Stream de Pedidos:\")\n",
        "for entrada in entradas:\n",
        "    print(f\"ID: {entrada[0]}, Dados: {entrada[1]}\")\n"
      ],
      "metadata": {
        "id": "SnG8WH34Uc9f"
      },
      "execution_count": null,
      "outputs": []
    },
    {
      "cell_type": "markdown",
      "source": [
        "#### 2. Criando um Grupo de Consumidores\n",
        "\n",
        "Vamos criar um grupo de consumidores chamado grupo_pedidos para processar as mensagens."
      ],
      "metadata": {
        "id": "NeLSXvWnUg_g"
      }
    },
    {
      "cell_type": "code",
      "source": [
        "# 2. Criando um Grupo de Consumidores\n",
        "print(\"\\n### Criando um Grupo de Consumidores ###\")\n",
        "try:\n",
        "    r.xgroup_create(\"pedidos_stream\", \"grupo_pedidos\", id=\"0\", mkstream=True)\n",
        "    print(\"Grupo de consumidores 'grupo_pedidos' criado com sucesso!\")\n",
        "except redis.exceptions.ResponseError:\n",
        "    print(\"Grupo de consumidores já existe, prosseguindo...\")"
      ],
      "metadata": {
        "id": "YElmdBi5Ukwn"
      },
      "execution_count": null,
      "outputs": []
    },
    {
      "cell_type": "markdown",
      "source": [
        "#### 3. Consumindo Mensagens com um Consumidor\n",
        "\n",
        "Vamos usar o `XREADGROUP` para consumir mensagens no grupo de consumidores."
      ],
      "metadata": {
        "id": "l_Qs7wZJUo6d"
      }
    },
    {
      "cell_type": "code",
      "source": [
        "# 3. Consumindo Mensagens com um Consumidor\n",
        "print(\"\\n### Consumindo Mensagens com consumer1 ###\")\n",
        "entradas = r.xreadgroup(\"grupo_pedidos\", \"consumer1\", {\"pedidos_stream\": \">\"}, count=2, block=5000)\n",
        "\n",
        "if entradas:\n",
        "    print(\"Mensagens lidas pelo consumer1:\")\n",
        "    for stream, mensagens in entradas:\n",
        "        for msg_id, dados in mensagens:\n",
        "            print(f\"ID: {msg_id}, Dados: {dados}\")\n",
        "            # Confirmar (acknowledge) o processamento da mensagem\n",
        "            r.xack(\"pedidos_stream\", \"grupo_pedidos\", msg_id)\n",
        "            print(f\"Mensagem {msg_id} reconhecida (acknowledged) pelo consumer1.\")\n",
        "else:\n",
        "    print(\"Nenhuma mensagem disponível para consumer1.\")"
      ],
      "metadata": {
        "id": "N5N4TT1pUof5"
      },
      "execution_count": null,
      "outputs": []
    },
    {
      "cell_type": "markdown",
      "source": [
        "#### 4. Gerenciamento de Mensagens Pendentes\n",
        "\n",
        "Podemos verificar mensagens pendentes que ainda não foram processadas e transferi-las para outro consumidor, se necessário.\n"
      ],
      "metadata": {
        "id": "swk3krjcUzpK"
      }
    },
    {
      "cell_type": "code",
      "source": [
        "# 4. Gerenciamento de Mensagens Pendentes\n",
        "print(\"\\n### Gerenciamento de Mensagens Pendentes ###\")\n",
        "pendentes = r.xpending(\"pedidos_stream\", \"grupo_pedidos\")\n",
        "print(\"Mensagens pendentes no grupo 'grupo_pedidos':\", pendentes)"
      ],
      "metadata": {
        "id": "ACdiJiLUU2Mj"
      },
      "execution_count": null,
      "outputs": []
    },
    {
      "cell_type": "markdown",
      "source": [
        "## RedisTimeSeries - Gerenciando Séries Temporais de Forma Eficiente\n",
        "\n",
        "O **RedisTimeSeries** é um módulo que permite coletar, armazenar, processar e consultar grandes volumes de dados de séries temporais de forma eficiente. Ele é ideal para aplicações de monitoramento, métricas de IoT, ou sistemas que precisam de dados históricos com agregações em tempo real.\n",
        "\n",
        "### Caso de Uso: Monitoramento de Métricas de Aplicações (Estilo Prometheus)\n",
        "\n",
        "Imagine que você queira monitorar o uso de CPU e memória de um cluster de servidores em tempo real. **RedisTimeSeries** é uma escolha ideal, pois permite armazenar essas métricas e fazer consultas rápidas para análise de tendências.\n",
        "\n",
        "### Exemplo com RedisTimeSeries\n",
        "\n",
        "#### 1. Criando Séries Temporais com Retenção de Dados\n",
        "\n",
        "Vamos começar criando séries temporais para monitorar métricas de CPU e memória, com um tempo de retenção de dados de 30 dias."
      ],
      "metadata": {
        "id": "ELLUHtXXXCQf"
      }
    },
    {
      "cell_type": "code",
      "source": [
        "# Função para criar uma série temporal de forma segura\n",
        "def create_timeseries_if_not_exists(key, retention, labels):\n",
        "    try:\n",
        "        r.execute_command(\"TS.CREATE\", key, \"RETENTION\", retention, \"LABELS\", *labels)\n",
        "        print(f\"Série temporal '{key}' criada com sucesso!\")\n",
        "    except redis.exceptions.ResponseError as e:\n",
        "        if \"already exists\" in str(e):\n",
        "            print(f\"Série temporal '{key}' já existe, prosseguindo...\")\n",
        "        else:\n",
        "            raise e\n",
        "\n",
        "# Criar séries temporais para CPU e memória com 30 dias de retenção (2.592.000.000 ms)\n",
        "create_timeseries_if_not_exists(\"metric:cpu_usage\", 2592000000, [\"type\", \"cpu\", \"region\", \"east\"])\n",
        "create_timeseries_if_not_exists(\"metric:memory_usage\", 2592000000, [\"type\", \"memory\", \"region\", \"east\"])"
      ],
      "metadata": {
        "id": "YxzF0DagXRtJ"
      },
      "execution_count": null,
      "outputs": []
    },
    {
      "cell_type": "markdown",
      "source": [
        "#### 2. Adicionando Dados em Tempo Real\n",
        "\n",
        "Podemos adicionar dados de uso de CPU e memória com a marcação de tempo atual."
      ],
      "metadata": {
        "id": "0IR2QhkHXW06"
      }
    },
    {
      "cell_type": "code",
      "source": [
        "# Adicionando dados com o timestamp atual\n",
        "r.execute_command(\"TS.ADD\", \"metric:cpu_usage\", \"*\", 75.5)  # 75.5% de uso de CPU\n",
        "r.execute_command(\"TS.ADD\", \"metric:memory_usage\", \"*\", 512)  # 512 MB de uso de memória\n",
        "\n",
        "print(\"Dados adicionados com sucesso às séries temporais!\")"
      ],
      "metadata": {
        "id": "moXCM3bgXalT"
      },
      "execution_count": null,
      "outputs": []
    },
    {
      "cell_type": "markdown",
      "source": [
        "#### 3. Consulta Simples: Recuperar Dados em Intervalo de Tempo\n",
        "\n",
        "Vamos consultar o uso de CPU no último minuto.\n"
      ],
      "metadata": {
        "id": "jfcYgsaSkG2H"
      }
    },
    {
      "cell_type": "code",
      "source": [
        "import time\n",
        "\n",
        "# Recuperar o timestamp atual\n",
        "current_time = int(time.time() * 1000)  # em milissegundos\n",
        "\n",
        "# Consultar dados de uso de CPU nos últimos 60 segundos (60.000 ms)\n",
        "cpu_usage = r.execute_command(\"TS.RANGE\", \"metric:cpu_usage\", current_time - 60000, current_time)\n",
        "print(\"Uso de CPU nos últimos 60 segundos:\")\n",
        "for data_point in cpu_usage:\n",
        "    print(f\"Timestamp: {data_point[0]}, Valor: {data_point[1]}\")"
      ],
      "metadata": {
        "id": "2c_UiB7kkLCg"
      },
      "execution_count": null,
      "outputs": []
    },
    {
      "cell_type": "markdown",
      "source": [
        "#### 4. Agregações: Média de Uso por Minuto\n",
        "\n",
        "Para ver a média de uso de CPU a cada minuto, usamos agregações."
      ],
      "metadata": {
        "id": "HlG8HGLHkPEl"
      }
    },
    {
      "cell_type": "code",
      "source": [
        "# Agregar dados de uso de CPU a cada minuto (60.000 ms) com a média\n",
        "cpu_avg = r.execute_command(\"TS.RANGE\", \"metric:cpu_usage\", \"-\", \"+\", \"AGGREGATION\", \"avg\", 60000)\n",
        "print(\"Média de uso de CPU por minuto:\")\n",
        "for data_point in cpu_avg:\n",
        "    print(f\"Timestamp: {data_point[0]}, Valor: {data_point[1]}\")"
      ],
      "metadata": {
        "id": "gUnafimWkTAi"
      },
      "execution_count": null,
      "outputs": []
    },
    {
      "cell_type": "markdown",
      "source": [
        "#### 5. Compactação de Dados\n",
        "\n",
        "Podemos criar regras para compactar dados automaticamente, reduzindo o tamanho da série temporal.\n",
        "\n"
      ],
      "metadata": {
        "id": "KGybNigrkXr2"
      }
    },
    {
      "cell_type": "code",
      "source": [
        "# Garantir que a série compactada não exista antes de criar\n",
        "try:\n",
        "    r.execute_command(\"TS.CREATE\", \"metric:cpu_usage:avg_minute\", \"RETENTION\", 0)  # Sem retenção para a série compactada\n",
        "    print(\"Série compactada 'metric:cpu_usage:avg_minute' criada com sucesso.\")\n",
        "except redis.exceptions.ResponseError:\n",
        "    print(\"A série 'metric:cpu_usage:avg_minute' já existe, prosseguindo...\")\n",
        "\n",
        "# Criar a regra de compactação de forma segura\n",
        "try:\n",
        "    r.execute_command(\"TS.CREATERULE\", \"metric:cpu_usage\", \"metric:cpu_usage:avg_minute\", \"AGGREGATION\", \"avg\", 60000)\n",
        "    print(\"Regra de compactação criada: uso de CPU será agregado a cada minuto.\")\n",
        "except redis.exceptions.ResponseError:\n",
        "    print(\"A regra de compactação já existe, prosseguindo...\")\n",
        "\n",
        "# Adicionar alguns dados para verificar a compactação\n",
        "current_time = int(time.time() * 1000)  # Timestamp em milissegundos\n",
        "r.execute_command(\"TS.ADD\", \"metric:cpu_usage\", current_time, 60.0)\n",
        "r.execute_command(\"TS.ADD\", \"metric:cpu_usage\", current_time + 30000, 70.0)  # 30 segundos depois\n",
        "r.execute_command(\"TS.ADD\", \"metric:cpu_usage\", current_time + 60000, 80.0)  # 60 segundos depois\n",
        "\n",
        "# Consultar os dados compactados imediatamente\n",
        "cpu_avg_compacted = r.execute_command(\"TS.RANGE\", \"metric:cpu_usage:avg_minute\", \"-\", \"+\")\n",
        "print(\"Dados compactados de uso de CPU (média por minuto):\")\n",
        "for data_point in cpu_avg_compacted:\n",
        "    print(f\"Timestamp: {data_point[0]}, Valor: {data_point[1]}\")"
      ],
      "metadata": {
        "id": "Z7qMHp6Dkcw6"
      },
      "execution_count": null,
      "outputs": []
    },
    {
      "cell_type": "markdown",
      "source": [
        "## Estruturas de Dados Probabilísticas com Redis\n",
        "\n",
        "O Redis oferece suporte a estruturas de dados probabilísticas que economizam espaço e são extremamente rápidas para operações específicas. Vamos explorar dois exemplos simples: **HyperLogLog** e **Bloom Filter**.\n",
        "\n",
        "### 1. HyperLogLog\n",
        "\n",
        "O **HyperLogLog** é uma estrutura de dados probabilística que estima a cardinalidade (número de elementos únicos) de um conjunto. Em vez de armazenar todos os elementos, ele fornece uma estimativa com um erro padrão de `0,81%`, usando apenas até `12 KB` de memória.\n",
        "\n",
        "**Casos de Uso:** Contar visitantes únicos de um site, motores de fraude, consultas de pesquisa únicas ou qualquer aplicação que necessite de contagem de elementos únicos de forma eficiente, com altíssima performance e baixo custo.\n",
        "\n",
        "#### Exemplo Simples com HyperLogLog\n",
        "\n"
      ],
      "metadata": {
        "id": "eaWlONNcncKJ"
      }
    },
    {
      "cell_type": "code",
      "source": [
        "# Adicionar elementos a um HyperLogLog\n",
        "r.pfadd(\"visitors\", \"Alice\", \"Bob\", \"Charlie\", \"Alice\")\n",
        "print(r.pfcount(\"visitors\"))  # Saída: 3 (estimativa de visitantes únicos)\n",
        "\n",
        "# Adicionar mais visitantes\n",
        "r.pfadd(\"visitors\", \"Dave\", \"Eve\")\n",
        "print(r.pfcount(\"visitors\"))  # Saída: 5 (estimativa atualizada)\n",
        "\n",
        "# Unir HyperLogLogs (exemplo de caso de uso com múltiplas origens de visitantes)\n",
        "r.pfadd(\"new_visitors\", \"Frank\", \"Grace\")\n",
        "r.pfmerge(\"all_visitors\", \"visitors\", \"new_visitors\")\n",
        "print(r.pfcount(\"all_visitors\"))  # Saída: estimativa total"
      ],
      "metadata": {
        "id": "f8n0mnzwnw7D"
      },
      "execution_count": null,
      "outputs": []
    },
    {
      "cell_type": "markdown",
      "source": [
        "## 2. Bloom Filter\n",
        "\n",
        "O **Bloom Filter** é uma estrutura de dados probabilística que verifica se um elemento pertence a um conjunto, mas com possibilidade de falsos positivos (afirmação errada de presença) e garantia de ausência correta. É ideal para casos onde queremos evitar operações custosas ao verificar a presença de um elemento.\n",
        "\n",
        "**Casos de uso:** Detecção de fraudes financeiras, verificação rápida de nomes de usuários, evitar a exibição repetida de anúncios ou evitar a duplicação de nomes de modelos de produtos.\n",
        "\n",
        "### Exemplo Simples com Bloom Filter\n",
        "\n"
      ],
      "metadata": {
        "id": "JwBngVKNoRzm"
      }
    },
    {
      "cell_type": "code",
      "source": [
        "# Tentar criar o Bloom Filter somente se ele não existir\n",
        "try:\n",
        "    r.bf().reserve(\"product_filter\", 0.001, 1000)\n",
        "    print(\"Bloom Filter 'product_filter' criado com sucesso!\")\n",
        "except redis.exceptions.ResponseError as e:\n",
        "    if \"item exists\" in str(e):\n",
        "        print(\"Bloom Filter 'product_filter' já existe, prosseguindo...\")\n",
        "    else:\n",
        "        raise e\n",
        "\n",
        "# Adicionar produtos ao filtro\n",
        "r.bf().add(\"product_filter\", \"Bike Model X\")\n",
        "r.bf().add(\"product_filter\", \"Bike Model Y\")\n",
        "\n",
        "# Verificar se os produtos estão no filtro\n",
        "print(r.bf().exists(\"product_filter\", \"Bike Model X\"))  # Saída: True\n",
        "print(r.bf().exists(\"product_filter\", \"Bike Model Z\"))  # Saída: False\n",
        "\n",
        "# Adicionar múltiplos produtos e verificar a existência\n",
        "r.bf().madd(\"product_filter\", \"Bike Model Z\", \"Bike Model W\")\n",
        "print(r.bf().mexists(\"product_filter\", \"Bike Model Z\", \"Bike Model W\"))  # Saída: [True, True]"
      ],
      "metadata": {
        "id": "5BukK2-jofVo"
      },
      "execution_count": null,
      "outputs": []
    }
  ],
  "metadata": {
    "colab": {
      "provenance": [],
      "include_colab_link": true
    },
    "kernelspec": {
      "display_name": "Python 3",
      "name": "python3"
    },
    "language_info": {
      "name": "python",
      "version": "3.9.6"
    }
  },
  "nbformat": 4,
  "nbformat_minor": 0
}